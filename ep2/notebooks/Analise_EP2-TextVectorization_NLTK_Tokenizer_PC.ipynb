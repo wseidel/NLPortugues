{
 "cells": [
  {
   "cell_type": "code",
   "execution_count": 1,
   "metadata": {},
   "outputs": [
    {
     "data": {
      "text/plain": [
       "'2.2.0-rc3'"
      ]
     },
     "execution_count": 1,
     "metadata": {},
     "output_type": "execute_result"
    }
   ],
   "source": [
    "# https://keras.io/examples/nlp/text_classification_with_transformer/\n",
    "import tensorflow as tf\n",
    "from tensorflow import keras\n",
    "from tensorflow.keras import layers\n",
    "import pandas as pd\n",
    "import numpy as np\n",
    "\n",
    "\n",
    "\n",
    "from sklearn.model_selection import train_test_split\n",
    "from gensim.models import KeyedVectors\n",
    "tf.__version__"
   ]
  },
  {
   "cell_type": "code",
   "execution_count": 2,
   "metadata": {},
   "outputs": [
    {
     "name": "stdout",
     "output_type": "stream",
     "text": [
      "tknzr_WordPunctTokenizer ...: ['estou', '.', 'torcendo', ':)', 'poooooor', ':', 'todos', 'nós', ':(']\n",
      "tknzr_NLTKWordTokenizer ....: ['estou.torcendo', ':', ')', 'poooooor', ':', 'todos', 'nós', ':', '(']\n",
      "tknzr_TweetTokenizer .......: ['estou.torcendo', ':)', 'pooor', ':', 'todos', 'nós', ':(']\n"
     ]
    },
    {
     "data": {
      "text/plain": [
       "'estou . torcendo :) poooooor : todos nós :('"
      ]
     },
     "execution_count": 2,
     "metadata": {},
     "output_type": "execute_result"
    }
   ],
   "source": [
    "from nltk.tokenize import TweetTokenizer\n",
    "tknzr_TweetTokenizer = TweetTokenizer(strip_handles=False, reduce_len=True)\n",
    "\n",
    "from nltk.tokenize.destructive import NLTKWordTokenizer\n",
    "tknzr_NLTKWordTokenizer = NLTKWordTokenizer()\n",
    "\n",
    "# from nltk.tokenize import MWETokenizer\n",
    "# tknzr = MWETokenizer()\n",
    "from nltk.tokenize import WordPunctTokenizer\n",
    "tknzr_WordPunctTokenizer = WordPunctTokenizer()\n",
    "\n",
    "\n",
    "\n",
    "text = \"Estou.torcendo :) poooooor: todos nós :( \"\n",
    "print( \"tknzr_WordPunctTokenizer ...:\", tknzr_WordPunctTokenizer.tokenize(text.lower()) )\n",
    "print( \"tknzr_NLTKWordTokenizer ....:\", tknzr_NLTKWordTokenizer.tokenize(text.lower()) )\n",
    "print( \"tknzr_TweetTokenizer .......:\", tknzr_TweetTokenizer.tokenize(text.lower()) )\n",
    "\n",
    "' '.join(tknzr_WordPunctTokenizer.tokenize(text.lower()))\n"
   ]
  },
  {
   "cell_type": "code",
   "execution_count": 3,
   "metadata": {},
   "outputs": [],
   "source": [
    "# Definindo as variáveis do projeto\n",
    "vocab_size = 200000  # Considerar 200k palavras\n",
    "maxlen = 200  # Considerar apenas as 100 primeiras palavras do texto da review\n",
    "\n",
    "embed_dim = 50 # tamanho do Embedding de cada token ( também do word2vec da NILC)\n",
    "num_heads = 2  # N. de cabeças de atenção\n",
    "ff_dim = 32   # tamanho da camada oculta nas redes feed forward dentro do transformer\n",
    "\n",
    "# Path para o arquivo de dados da b2w\n",
    "# B2W_DATAFILE = \"/home/wseidel/workspaces/usp/b2w-reviews01/B2W-Reviews01.csv\"\n",
    "B2W_DATAFILE = \"/home/wesley/workspaces/usp/data/b2w/B2W-Reviews01.csv\"\n",
    "# B2W_DATAFILE = \"/home/wseidel/workspaces/usp/b2w-reviews01/B2W-10k.csv\"\n",
    "\n",
    "\n",
    "# Path para o arquivo de dados de embeddings do NILC\n",
    "# NILC_W2V_DATAFILE = \"/home/wseidel/workspaces/usp/NILC/word2vec_200k.txt\"\n",
    "NILC_W2V_DATAFILE = \"/home/wesley/workspaces/usp/data/nilc/word2vec_200k.txt\"\n",
    "\n",
    "# Quantidade de epocas para o treino\n",
    "QNT_EPOCAS_A_TREINAR = 2"
   ]
  },
  {
   "cell_type": "code",
   "execution_count": 4,
   "metadata": {},
   "outputs": [],
   "source": [
    "# Carregar dados a serem analisados\n",
    "b2wCorpus = pd.read_csv(B2W_DATAFILE, sep=';', usecols=[\"review_text\", \"overall_rating\"])\n",
    "\n",
    "# Carregar o Word2Vec do NILC\n",
    "# model_w2v = KeyedVectors.load_word2vec_format(NILC_W2V_DATAFILE)"
   ]
  },
  {
   "cell_type": "code",
   "execution_count": 5,
   "metadata": {},
   "outputs": [
    {
     "name": "stdout",
     "output_type": "stream",
     "text": [
      "train..: 79423 0.6\n",
      "test...: 39712 0.3\n",
      "val....: 13238 0.1\n",
      "----------------------------------------\n",
      "x_train..: 79423 Last value(Y,X)..: [ 2 ]  pena que não tem desconto pena que não tem desconto pena que não tem desconto pena que não tem desconto pena que não tem desconto pena que não tem desconto pena que não tem desconto pena que não tem desconto pena que não tem desconto pena que não tem desconto pena que não tem desconto pena que não tem desconto pena que não tem desconto pena que não tem desconto pena que não tem desconto pena que não tem desconto pena que não tem desconto pena que não tem desconto pena que não tem desconto pena que não tem desconto pena que não tem desconto pena que não tem desconto pena que não tem desconto pena que não tem desconto pena que não tem desconto pena que não tem desconto pena que não tem desconto pena que não tem desconto pena que não tem desconto pena que não tem desconto pena que não tem desconto pena que não tem desconto pena que não tem desconto pena que não tem desconto pena que não tem desconto pena que não tem desconto pena que não tem desconto pena que não tem desconto pena que não tem desconto pena que não tem desconto pena que não tem desconto pena que não tem desconto pena que não tem desconto pena que não tem desconto pena que não tem desconto pena que não tem desconto pena que não tem desconto pena que não tem desconto pena que não tem desconto pena que não tem desconto pena que não tem desconto pena que não tem desconto pena que não tem desconto pena que não tem desconto pena que não tem desconto pena que não tem desconto pena que não tem desconto pena que não tem desconto pena que não tem desconto pena que não tem desconto pena que não tem desconto pena que não tem desconto pena que não tem desconto pena que não tem desconto pena que não tem desconto pena que não tem desconto pena que não tem desconto pena que não tem desconto pena que não tem desconto pena que não tem desconto pena que não tem desconto pena que não tem desconto pena que não tem desconto pena que não tem desconto pena que não tem desconto pena que não tem desconto pena que não tem desconto pena que não tem desconto pena que não tem desconto pena que não tem desconto pena que não tem desconto pena que não tem desconto pena que não tem desconto pena que não tem desconto pena que não tem desconto pena que não tem desconto pena que não tem desconto pena que não tem desconto pena que não tem desconto pena que não tem desconto pena que não tem desconto pena que não tem desconto pena que não tem desconto pena que não tem desconto pena que não tem desconto pena que não tem desconto pena que não tem desconto pena que não tem desconto pena que não tem desconto pena que não tem desconto pena que não tem desconto pena que não tem desconto pena que não tem desconto pena que não tem desconto pena que não tem desconto pena que não tem desconto pena que não tem desconto pena que não tem desconto pena que não tem desconto pena que não tem desconto pena que não tem desconto pena que não tem desconto pena que não tem desconto pena que não tem desconto pena que não tem desconto pena que não tem desconto pena que não tem desconto pena que não tem desconto pena que não tem desconto pena que não tem desconto pena que não tem desconto pena que não tem desconto pena que não tem desconto pena que não tem desconto pena que não tem desconto pena que não tem desconto pena que não tem desconto pena que não tem desconto pena que não tem desconto pena que não tem desconto pena que não tem desconto pena que não tem desconto pena que não tem desconto pena que não tem desconto pena que não tem desconto pena que não tem desconto pena que não tem desconto pena que não tem desconto pena que não tem desconto pena que não tem desconto pena que não tem desconto pena que não tem desconto pena que não tem desconto pena que não tem desconto pena que não tem desconto pena que não tem desconto pena que não tem desconto pena que não tem desconto pena que não tem desconto pena que não tem desconto pena que não tem desconto pena que não tem desconto pena que não tem desconto pena que não tem desconto pena que não tem desconto pena que não tem desconto pena que não tem desconto pena que não tem desconto pena que não tem desconto\n",
      "x_test...: 39712 Last value(Y,X)..: [ 2 ]  compraria novamente muito bom gotei tambem da entrega muito rapida\n",
      "x_val....: 13238 Last value(Y,X)..: [ 4 ]  além de dar a minha opinião eu ainda tenho que fazer um texto grande puxa vida hein não pode ser um texto curto então a gente rola aqui , a pipoqueiro é muito boa bonita barata .\n"
     ]
    }
   ],
   "source": [
    "def train_test_val_split(dataset, train_size=0.6, test_size=0.3, colname_stratify='overall_rating',random_seed=29):\n",
    "    val_size = 1 - round((train_size + test_size),1)\n",
    "    split_train_test_size = test_size + val_size\n",
    "\n",
    "    train, val = train_test_split(dataset, \n",
    "                                  test_size=split_train_test_size, \n",
    "                                  stratify=dataset[colname_stratify], \n",
    "                                  random_state=random_seed)\n",
    "\n",
    "    test, val = train_test_split(val, \n",
    "                                  test_size=val_size/split_train_test_size, \n",
    "                                  stratify=val[colname_stratify], \n",
    "                                  random_state=random_seed)\n",
    "    return train.reset_index(drop=True), test, val\n",
    "\n",
    "def sort_by_size(df, col_to_sort):\n",
    "    df['sentence_length'] = df[col_to_sort].apply(lambda x: len(x.split()))\n",
    "    df.sort_values(by=['sentence_length'], inplace=True, ignore_index=True)\n",
    "    return df\n",
    "\n",
    "def getXY(serieX, serieY, padding_maxlen=50):\n",
    "#     x_train = keras.preprocessing.sequence.pad_sequences(train['review_text_clean'], maxlen=padding_maxlen, padding='post')\n",
    "    x_ = serieX.values\n",
    "    y_ = serieY.values\n",
    "    return x_, y_\n",
    "\n",
    "\n",
    "\n",
    "# train, test, val = train_test_val_split(df_to_work, train_size=0.75, test_size=0.15)\n",
    "df_to_work = b2wCorpus\n",
    "\n",
    "TAMMAX_SENTENCE=50\n",
    "# MAX_SEQUENCE_LENGTH = 50\n",
    "VOCAB_SIZE = 20000\n",
    "\n",
    "values_to_retain=[1,2,3,4,5]\n",
    "df_to_work = df_to_work[df_to_work['overall_rating'].isin(values_to_retain)]\n",
    "# df_to_work\n",
    "df_to_work['overall_rating'] = df_to_work.overall_rating.apply(lambda x: x-1)\n",
    "\n",
    "# # Aplicando o sentence_to_nilc_index_token\n",
    "# df_to_work['review_text_clean'] = df_to_work.review_text.apply(lambda x: sentence_to_nilc_index_token(x))\n",
    "\n",
    "df_to_work['review_text'] = df_to_work.review_text.apply(lambda x: ' '.join(tknzr_WordPunctTokenizer.tokenize(x.lower())))\n",
    "\n",
    "train, test, val = train_test_val_split(df_to_work)\n",
    "\n",
    "sort_by_size(train, 'review_text')\n",
    "\n",
    "\n",
    "x_train, y_train = getXY(train['review_text'], train['overall_rating'])\n",
    "x_test,  y_test  = getXY(test['review_text'], test['overall_rating'])\n",
    "x_val,   y_val   = getXY(val['review_text'], val['overall_rating'])\n",
    "\n",
    "\n",
    "print(\"train..:\", len(train), round(len(train) / len(df_to_work),3) ) \n",
    "print(\"test...:\", len(test), round(len(test) / len(df_to_work),3) )\n",
    "print(\"val....:\", len(val), round(len(val) / len(df_to_work),3) )\n",
    "print(\"--\" * 20) \n",
    "print(\"x_train..:\", len(x_train), \"Last value(Y,X)..: [\", y_train[-1], \"] \", x_train[-1] )\n",
    "print(\"x_test...:\", len(x_test),  \"Last value(Y,X)..: [\", y_test[-1], \"] \", x_test[-1] )\n",
    "print(\"x_val....:\", len(x_val),  \"Last value(Y,X)..: [\", y_val[-1], \"] \", x_val[-1] )"
   ]
  },
  {
   "cell_type": "code",
   "execution_count": 6,
   "metadata": {},
   "outputs": [],
   "source": [
    "VOCAB_SIZE=2000\n",
    "\n",
    "vectorize_layer = tf.keras.layers.experimental.preprocessing.TextVectorization(\n",
    "    max_tokens= VOCAB_SIZE,#MAX_TOKENS,\n",
    "    standardize= 'lower_and_strip_punctuation', # None\n",
    "#     standardize=\n",
    "    output_mode='int', # \"int\", \"binary\", \"count\" or \"tf-idf\",\n",
    "    output_sequence_length= 50#MAX_SENTENCE_LENGTH,  # Only valid in INT mode.\n",
    ")\n",
    "\n",
    "vectorize_layer.adapt(x_train)"
   ]
  },
  {
   "cell_type": "code",
   "execution_count": 19,
   "metadata": {},
   "outputs": [
    {
     "name": "stdout",
     "output_type": "stream",
     "text": [
      "Model: \"sequential_2\"\n",
      "_________________________________________________________________\n",
      "Layer (type)                 Output Shape              Param #   \n",
      "=================================================================\n",
      "text_vectorization (TextVect (None, 50)                0         \n",
      "_________________________________________________________________\n",
      "embedding_2 (Embedding)      (None, 50, 50)            100050    \n",
      "_________________________________________________________________\n",
      "lstm_2 (LSTM)                (None, 64)                29440     \n",
      "_________________________________________________________________\n",
      "dropout_2 (Dropout)          (None, 64)                0         \n",
      "_________________________________________________________________\n",
      "dense_2 (Dense)              (None, 5)                 325       \n",
      "=================================================================\n",
      "Total params: 129,815\n",
      "Trainable params: 129,815\n",
      "Non-trainable params: 0\n",
      "_________________________________________________________________\n"
     ]
    }
   ],
   "source": [
    "from tensorflow.keras import layers\n",
    "from tensorflow import keras\n",
    "\n",
    "def get_model(vocab_size=1000, dropout_prob=0.0):\n",
    "#     embedding_layer = model_w2v.get_keras_embedding()\n",
    "#     embedding_layer.trainable = True\n",
    "\n",
    "    model = keras.Sequential()\n",
    "#     model.add(layers.Input(shape=(TAMMAX_SENTENCE, )))\n",
    "    model.add(layers.Input(shape=(1,), dtype=tf.string))\n",
    "    model.add(vectorize_layer)\n",
    "    model.add(layers.Embedding(vocab_size+1, 50, input_length=TAMMAX_SENTENCE))\n",
    "#     model.add(embedding_layer)\n",
    "    model.add(layers.LSTM(64))\n",
    "    model.add(layers.Dropout(dropout_prob))\n",
    "    model.add(keras.layers.Dense(5, activation='softmax'))\n",
    "    \n",
    "    return model\n",
    "\n",
    "model = get_model( vocab_size=VOCAB_SIZE, dropout_prob=0.5)\n",
    "\n",
    "model.compile(\"adam\", \"sparse_categorical_crossentropy\", metrics=[\"accuracy\"])\n",
    "\n",
    "model.summary()"
   ]
  },
  {
   "cell_type": "code",
   "execution_count": 8,
   "metadata": {},
   "outputs": [],
   "source": [
    "# Exemplo a implementar\n",
    "# name = 'm1_lstm_drop0.0'\n",
    "# model = get_lstm_model(dropout_prob=0.5)\n",
    "# es = EarlyStopping(monitor='val_loss', mode='min', verbose=1, patience=10)\n",
    "# mc = ModelCheckpoint('../model_data/' + name + 'best_model.h5', monitor='val_loss', mode='min', save_best_only=True)\n",
    "# history = model.fit(x_train, y_train, batch_size=64, epochs=100, validation_data=(x_val, y_val), callbacks=[es, mc])\n",
    "# save_history(history, name)\n",
    "# model.evaluate(x_test, y_test)\n",
    "# display_loss_plot(history, name)\n",
    "# display_acc_plot(history, name)"
   ]
  },
  {
   "cell_type": "code",
   "execution_count": 20,
   "metadata": {},
   "outputs": [
    {
     "name": "stdout",
     "output_type": "stream",
     "text": [
      "Epoch 1/50\n",
      "2482/2482 [==============================] - 70s 28ms/step - loss: 1.0636 - accuracy: 0.5405 - val_loss: 0.9772 - val_accuracy: 0.5727\n",
      "Epoch 2/50\n",
      "2482/2482 [==============================] - 69s 28ms/step - loss: 0.9624 - accuracy: 0.5872 - val_loss: 0.9465 - val_accuracy: 0.5967\n",
      "Epoch 3/50\n",
      "2482/2482 [==============================] - 70s 28ms/step - loss: 0.9267 - accuracy: 0.6010 - val_loss: 0.9442 - val_accuracy: 0.6030\n",
      "Epoch 4/50\n",
      "2482/2482 [==============================] - 70s 28ms/step - loss: 0.9015 - accuracy: 0.6116 - val_loss: 0.9231 - val_accuracy: 0.6083\n",
      "Epoch 5/50\n",
      "2482/2482 [==============================] - 70s 28ms/step - loss: 0.8804 - accuracy: 0.6184 - val_loss: 0.9126 - val_accuracy: 0.6091\n",
      "Epoch 6/50\n",
      "2482/2482 [==============================] - 67s 27ms/step - loss: 0.8654 - accuracy: 0.6265 - val_loss: 0.9190 - val_accuracy: 0.6024\n",
      "Epoch 7/50\n",
      "2482/2482 [==============================] - 67s 27ms/step - loss: 0.8488 - accuracy: 0.6315 - val_loss: 0.9292 - val_accuracy: 0.6003\n",
      "Epoch 8/50\n",
      "2482/2482 [==============================] - 67s 27ms/step - loss: 0.8341 - accuracy: 0.6375 - val_loss: 0.9186 - val_accuracy: 0.6108\n",
      "Epoch 9/50\n",
      "2482/2482 [==============================] - 67s 27ms/step - loss: 0.8209 - accuracy: 0.6411 - val_loss: 0.9226 - val_accuracy: 0.6078\n",
      "Epoch 10/50\n",
      "2482/2482 [==============================] - 67s 27ms/step - loss: 0.8051 - accuracy: 0.6480 - val_loss: 0.9341 - val_accuracy: 0.6006\n",
      "Epoch 11/50\n",
      "2482/2482 [==============================] - 68s 27ms/step - loss: 0.7917 - accuracy: 0.6542 - val_loss: 0.9472 - val_accuracy: 0.6015\n",
      "Epoch 12/50\n",
      "2482/2482 [==============================] - 68s 27ms/step - loss: 0.7782 - accuracy: 0.6608 - val_loss: 0.9487 - val_accuracy: 0.6005\n",
      "Epoch 13/50\n",
      "2482/2482 [==============================] - 68s 27ms/step - loss: 0.7629 - accuracy: 0.6655 - val_loss: 0.9817 - val_accuracy: 0.5944\n",
      "Epoch 14/50\n",
      "2482/2482 [==============================] - 68s 27ms/step - loss: 0.7514 - accuracy: 0.6711 - val_loss: 0.9758 - val_accuracy: 0.6011\n",
      "Epoch 15/50\n",
      "2482/2482 [==============================] - 68s 27ms/step - loss: 0.7378 - accuracy: 0.6779 - val_loss: 0.9980 - val_accuracy: 0.5993\n",
      "Epoch 16/50\n",
      "2482/2482 [==============================] - 68s 27ms/step - loss: 0.7261 - accuracy: 0.6834 - val_loss: 1.0140 - val_accuracy: 0.5960\n",
      "Epoch 17/50\n",
      "2482/2482 [==============================] - 69s 28ms/step - loss: 0.7122 - accuracy: 0.6886 - val_loss: 1.0515 - val_accuracy: 0.5906\n",
      "Epoch 18/50\n",
      "2482/2482 [==============================] - 68s 27ms/step - loss: 0.7009 - accuracy: 0.6952 - val_loss: 1.0619 - val_accuracy: 0.5879\n",
      "Epoch 19/50\n",
      "2482/2482 [==============================] - 69s 28ms/step - loss: 0.6852 - accuracy: 0.7009 - val_loss: 1.0686 - val_accuracy: 0.5866\n",
      "Epoch 20/50\n",
      "2482/2482 [==============================] - 68s 28ms/step - loss: 0.6754 - accuracy: 0.7057 - val_loss: 1.1055 - val_accuracy: 0.5801\n",
      "Epoch 21/50\n",
      "2482/2482 [==============================] - 71s 28ms/step - loss: 0.6647 - accuracy: 0.7124 - val_loss: 1.1107 - val_accuracy: 0.5829\n",
      "Epoch 22/50\n",
      "2482/2482 [==============================] - 73s 29ms/step - loss: 0.6531 - accuracy: 0.7148 - val_loss: 1.1229 - val_accuracy: 0.5838\n",
      "Epoch 23/50\n",
      "2482/2482 [==============================] - 71s 29ms/step - loss: 0.6401 - accuracy: 0.7218 - val_loss: 1.1666 - val_accuracy: 0.5838\n",
      "Epoch 24/50\n",
      "2482/2482 [==============================] - 71s 29ms/step - loss: 0.6323 - accuracy: 0.7258 - val_loss: 1.1522 - val_accuracy: 0.5808\n",
      "Epoch 25/50\n",
      "2482/2482 [==============================] - 71s 28ms/step - loss: 0.6155 - accuracy: 0.7335 - val_loss: 1.2017 - val_accuracy: 0.5793\n",
      "Epoch 26/50\n",
      "2482/2482 [==============================] - 70s 28ms/step - loss: 0.6099 - accuracy: 0.7357 - val_loss: 1.2043 - val_accuracy: 0.5743\n",
      "Epoch 27/50\n",
      "2482/2482 [==============================] - 72s 29ms/step - loss: 0.5982 - accuracy: 0.7429 - val_loss: 1.2167 - val_accuracy: 0.5795\n",
      "Epoch 28/50\n",
      "2482/2482 [==============================] - 72s 29ms/step - loss: 0.5918 - accuracy: 0.7440 - val_loss: 1.2485 - val_accuracy: 0.5689\n",
      "Epoch 29/50\n",
      "2482/2482 [==============================] - 73s 29ms/step - loss: 0.5764 - accuracy: 0.7520 - val_loss: 1.3089 - val_accuracy: 0.5749\n",
      "Epoch 30/50\n",
      "2482/2482 [==============================] - 71s 29ms/step - loss: 0.5675 - accuracy: 0.7549 - val_loss: 1.3163 - val_accuracy: 0.5700\n",
      "Epoch 31/50\n",
      "2482/2482 [==============================] - 70s 28ms/step - loss: 0.5611 - accuracy: 0.7587 - val_loss: 1.3260 - val_accuracy: 0.5748\n",
      "Epoch 32/50\n",
      "2482/2482 [==============================] - 70s 28ms/step - loss: 0.5552 - accuracy: 0.7631 - val_loss: 1.3429 - val_accuracy: 0.5695\n",
      "Epoch 33/50\n",
      "2482/2482 [==============================] - 70s 28ms/step - loss: 0.5427 - accuracy: 0.7664 - val_loss: 1.3648 - val_accuracy: 0.5785\n",
      "Epoch 34/50\n",
      "2482/2482 [==============================] - 71s 28ms/step - loss: 0.5360 - accuracy: 0.7684 - val_loss: 1.3717 - val_accuracy: 0.5710\n",
      "Epoch 35/50\n",
      "2482/2482 [==============================] - 70s 28ms/step - loss: 0.5279 - accuracy: 0.7732 - val_loss: 1.3548 - val_accuracy: 0.5672\n",
      "Epoch 36/50\n",
      "2482/2482 [==============================] - 68s 27ms/step - loss: 0.5209 - accuracy: 0.7763 - val_loss: 1.3975 - val_accuracy: 0.5607\n",
      "Epoch 37/50\n",
      "2482/2482 [==============================] - 69s 28ms/step - loss: 0.5154 - accuracy: 0.7785 - val_loss: 1.4101 - val_accuracy: 0.5686\n",
      "Epoch 38/50\n",
      "2482/2482 [==============================] - 68s 27ms/step - loss: 0.5047 - accuracy: 0.7836 - val_loss: 1.4685 - val_accuracy: 0.5665\n",
      "Epoch 39/50\n",
      "2482/2482 [==============================] - 68s 27ms/step - loss: 0.4988 - accuracy: 0.7867 - val_loss: 1.5016 - val_accuracy: 0.5627\n",
      "Epoch 40/50\n",
      "2482/2482 [==============================] - 68s 27ms/step - loss: 0.4971 - accuracy: 0.7881 - val_loss: 1.5459 - val_accuracy: 0.5608\n",
      "Epoch 41/50\n",
      "2482/2482 [==============================] - 68s 28ms/step - loss: 0.4847 - accuracy: 0.7933 - val_loss: 1.5030 - val_accuracy: 0.5584\n",
      "Epoch 42/50\n",
      "2482/2482 [==============================] - 68s 27ms/step - loss: 0.4816 - accuracy: 0.7938 - val_loss: 1.5484 - val_accuracy: 0.5694\n",
      "Epoch 43/50\n",
      "2482/2482 [==============================] - 68s 28ms/step - loss: 0.4717 - accuracy: 0.7974 - val_loss: 1.5689 - val_accuracy: 0.5604\n",
      "Epoch 44/50\n",
      "2482/2482 [==============================] - 68s 28ms/step - loss: 0.4721 - accuracy: 0.7974 - val_loss: 1.5526 - val_accuracy: 0.5610\n",
      "Epoch 45/50\n",
      "2482/2482 [==============================] - 68s 28ms/step - loss: 0.4708 - accuracy: 0.7991 - val_loss: 1.5666 - val_accuracy: 0.5610\n",
      "Epoch 46/50\n",
      "2482/2482 [==============================] - 69s 28ms/step - loss: 0.4642 - accuracy: 0.8020 - val_loss: 1.6064 - val_accuracy: 0.5619\n",
      "Epoch 47/50\n",
      "2482/2482 [==============================] - 69s 28ms/step - loss: 0.4533 - accuracy: 0.8066 - val_loss: 1.6523 - val_accuracy: 0.5599\n",
      "Epoch 48/50\n",
      "2482/2482 [==============================] - 70s 28ms/step - loss: 0.4508 - accuracy: 0.8073 - val_loss: 1.6678 - val_accuracy: 0.5588\n",
      "Epoch 49/50\n",
      "2482/2482 [==============================] - 68s 27ms/step - loss: 0.4449 - accuracy: 0.8103 - val_loss: 1.6765 - val_accuracy: 0.5594\n",
      "Epoch 50/50\n",
      "2482/2482 [==============================] - 69s 28ms/step - loss: 0.4389 - accuracy: 0.8134 - val_loss: 1.7243 - val_accuracy: 0.5550\n",
      "1241/1241 [==============================] - 13s 11ms/step - loss: 1.7433 - accuracy: 0.5606\n",
      "Loss:  1.7432903051376343\n",
      "Accuracy:  0.560636579990387\n"
     ]
    }
   ],
   "source": [
    "# Ver lista06\n",
    "\n",
    "# Ler aqui pro batch generator:\n",
    "#     https://datascience.stackexchange.com/questions/48796/how-to-feed-lstm-with-different-input-array-sizes\n",
    "\n",
    "# Seu código aqui\n",
    "\n",
    "QNT_EPOCAS_TREINO = 50\n",
    "\n",
    "history = model.fit(\n",
    "    x_train, y_train, \n",
    "    batch_size=32, \n",
    "    epochs=QNT_EPOCAS_TREINO, \n",
    "    validation_data=(x_val, y_val)\n",
    ")\n",
    "\n",
    "loss, accuracy = model.evaluate(x=x_test,y=y_test)\n",
    "\n",
    "print(\"Loss: \", loss)\n",
    "print(\"Accuracy: \", accuracy)"
   ]
  },
  {
   "cell_type": "markdown",
   "metadata": {},
   "source": [
    "# Comparações \n",
    "\n",
    "## configs:\n",
    " - LSTM = 32\n",
    " - vocab_size = 1000\n",
    " - Embeddind = Zerado\n",
    " - Tokenizer padrão do TextVectorization\n",
    "    \n",
    "```\n",
    "Epoch 1/3\n",
    "2482/2482 [==============================] - 53s 21ms/step - loss: 1.0628 - accuracy: 0.5413 - val_loss: 0.9851 - val_accuracy: 0.5830\n",
    "Epoch 2/3\n",
    "2482/2482 [==============================] - 54s 22ms/step - loss: 0.9624 - accuracy: 0.5881 - val_loss: 0.9556 - val_accuracy: 0.5934\n",
    "Epoch 3/3\n",
    "2482/2482 [==============================] - 53s 21ms/step - loss: 0.9346 - accuracy: 0.5976 - val_loss: 0.9435 - val_accuracy: 0.5968\n",
    "1241/1241 [==============================] - 8s 7ms/step - loss: 0.9454 - accuracy: 0.5933\n",
    "Loss:  0.9453516602516174\n",
    "Accuracy:  0.5933470726013184\n",
    "```\n",
    "\n",
    "## configs:\n",
    " - LSTM = 32\n",
    " - vocab_size = 1000\n",
    " - Embeddind = Zerado\n",
    " - tknzr_WordPunctTokenizer (NLTK) + Tokenizer padrão do TextVectorization \n",
    "    \n",
    "```\n",
    "Epoch 1/10\n",
    "2482/2482 [==============================] - 56s 23ms/step - loss: 1.0530 - accuracy: 0.5473 - val_loss: 0.9864 - val_accuracy: 0.5678\n",
    "Epoch 2/10\n",
    "2482/2482 [==============================] - 54s 22ms/step - loss: 0.9563 - accuracy: 0.5878 - val_loss: 0.9343 - val_accuracy: 0.5979\n",
    "Epoch 3/10\n",
    "2482/2482 [==============================] - 53s 21ms/step - loss: 0.9300 - accuracy: 0.5993 - val_loss: 0.9297 - val_accuracy: 0.6015\n",
    "Epoch 4/10\n",
    "2482/2482 [==============================] - 53s 21ms/step - loss: 0.9099 - accuracy: 0.6064 - val_loss: 0.9220 - val_accuracy: 0.6045\n",
    "Epoch 5/10\n",
    "2482/2482 [==============================] - 53s 22ms/step - loss: 0.8970 - accuracy: 0.6103 - val_loss: 0.9292 - val_accuracy: 0.6044\n",
    "Epoch 6/10\n",
    "2482/2482 [==============================] - 53s 21ms/step - loss: 0.8835 - accuracy: 0.6147 - val_loss: 0.9215 - val_accuracy: 0.6052\n",
    "Epoch 7/10\n",
    "2482/2482 [==============================] - 53s 21ms/step - loss: 0.8728 - accuracy: 0.6192 - val_loss: 0.9154 - val_accuracy: 0.6067\n",
    "Epoch 8/10\n",
    "2482/2482 [==============================] - 54s 22ms/step - loss: 0.8627 - accuracy: 0.6230 - val_loss: 0.9170 - val_accuracy: 0.6066\n",
    "Epoch 9/10\n",
    "2482/2482 [==============================] - 54s 22ms/step - loss: 0.8527 - accuracy: 0.6287 - val_loss: 0.9211 - val_accuracy: 0.6039\n",
    "Epoch 10/10\n",
    "2482/2482 [==============================] - 55s 22ms/step - loss: 0.8437 - accuracy: 0.6312 - val_loss: 0.9213 - val_accuracy: 0.6039\n",
    "1241/1241 [==============================] - 8s 7ms/step - loss: 0.9257 - accuracy: 0.6052\n",
    "Loss:  0.9256511330604553\n",
    "Accuracy:  0.6052075028419495\n",
    "```"
   ]
  },
  {
   "cell_type": "code",
   "execution_count": 13,
   "metadata": {},
   "outputs": [],
   "source": [
    "import matplotlib.pyplot as plt\n",
    "\n",
    "\n",
    "acc = history.history['accuracy']\n",
    "val_acc = history.history['val_accuracy']\n",
    "loss = history.history['loss']\n",
    "val_loss = history.history['val_loss']\n",
    "\n",
    "epochs = range(1, len(acc) + 1)\n",
    "\n",
    "# y_pred[0]\n",
    "# y_test[0]"
   ]
  },
  {
   "cell_type": "code",
   "execution_count": 17,
   "metadata": {},
   "outputs": [
    {
     "data": {
      "image/png": "[encoded data removed]",
      "text/plain": [
       "<Figure size 432x288 with 1 Axes>"
      ]
     },
     "metadata": {
      "needs_background": "light"
     },
     "output_type": "display_data"
    }
   ],
   "source": [
    "# \n",
    "plt.plot(epochs, acc, 'r', label='Training acc')\n",
    "plt.plot(epochs, val_acc, 'b', label='Validation acc')\n",
    "plt.title('Training and validation Accuracy')\n",
    "plt.xlabel('Epochs')\n",
    "plt.ylabel('Accuracy')\n",
    "plt.legend()\n",
    "\n",
    "\n",
    "plt.savefig('50_epocas_LSTM:64_vocab_size:1000_Embeddind:Zerado_tknzr:WordPunctTokenizer_Accuracy.jpg')\n",
    "plt.show()"
   ]
  },
  {
   "cell_type": "code",
   "execution_count": 18,
   "metadata": {},
   "outputs": [
    {
     "data": {
      "image/png": "[encoded data removed]",
      "text/plain": [
       "<Figure size 432x288 with 1 Axes>"
      ]
     },
     "metadata": {
      "needs_background": "light"
     },
     "output_type": "display_data"
    }
   ],
   "source": [
    "plt.plot(epochs, loss, 'r', label='Training loss')\n",
    "plt.plot(epochs, val_loss, 'b', label='Validation loss')\n",
    "plt.title('Training and validation loss')\n",
    "plt.xlabel('Epochs')\n",
    "plt.ylabel('Loss')\n",
    "plt.legend()\n",
    "\n",
    "plt.savefig('50_epocas_LSTM:64_vocab_size:1000_Embeddind:Zerado_tknzr:WordPunctTokenizer_Loss.jpg')\n",
    "plt.show()"
   ]
  },
  {
   "cell_type": "code",
   "execution_count": null,
   "metadata": {},
   "outputs": [],
   "source": []
  }
 ],
 "metadata": {
  "kernelspec": {
   "display_name": "Python 3",
   "language": "python",
   "name": "python3"
  },
  "language_info": {
   "codemirror_mode": {
    "name": "ipython",
    "version": 3
   },
   "file_extension": ".py",
   "mimetype": "text/x-python",
   "name": "python",
   "nbconvert_exporter": "python",
   "pygments_lexer": "ipython3",
   "version": "3.8.5"
  }
 },
 "nbformat": 4,
 "nbformat_minor": 4
}
