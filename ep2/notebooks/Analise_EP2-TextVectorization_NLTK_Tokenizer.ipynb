{
 "cells": [
  {
   "cell_type": "code",
   "execution_count": 1,
   "metadata": {},
   "outputs": [
    {
     "data": {
      "text/plain": [
       "'2.2.0-rc3'"
      ]
     },
     "execution_count": 1,
     "metadata": {},
     "output_type": "execute_result"
    }
   ],
   "source": [
    "# https://keras.io/examples/nlp/text_classification_with_transformer/\n",
    "import tensorflow as tf\n",
    "from tensorflow import keras\n",
    "from tensorflow.keras import layers\n",
    "import pandas as pd\n",
    "import numpy as np\n",
    "\n",
    "\n",
    "\n",
    "from sklearn.model_selection import train_test_split\n",
    "from gensim.models import KeyedVectors\n",
    "tf.__version__"
   ]
  },
  {
   "cell_type": "code",
   "execution_count": 2,
   "metadata": {},
   "outputs": [
    {
     "name": "stderr",
     "output_type": "stream",
     "text": [
      "[nltk_data] Downloading package stopwords to\n",
      "[nltk_data]     /home/wseidel/nltk_data...\n",
      "[nltk_data]   Package stopwords is already up-to-date!\n"
     ]
    },
    {
     "data": {
      "text/plain": [
       "True"
      ]
     },
     "execution_count": 2,
     "metadata": {},
     "output_type": "execute_result"
    }
   ],
   "source": [
    "import nltk\n",
    "nltk.download('stopwords')"
   ]
  },
  {
   "cell_type": "code",
   "execution_count": 7,
   "metadata": {},
   "outputs": [
    {
     "name": "stdout",
     "output_type": "stream",
     "text": [
      "Stopwords.......: ['de', 'a', 'o', 'que', 'e', 'é', 'do', 'da', 'em', 'um', 'para', 'com', 'não', 'uma', 'os', 'no', 'se', 'na', 'por', 'mais', 'as', 'dos', 'como', 'mas', 'ao', 'ele', 'das', 'à', 'seu', 'sua', 'ou', 'quando', 'muito', 'nos', 'já', 'eu', 'também', 'só', 'pelo', 'pela', 'até', 'isso', 'ela', 'entre', 'depois', 'sem', 'mesmo', 'aos', 'seus', 'quem', 'nas', 'me', 'esse', 'eles', 'você', 'essa', 'num', 'nem', 'suas', 'meu', 'às', 'minha', 'numa', 'pelos', 'elas', 'qual', 'nós', 'lhe', 'deles', 'essas', 'esses', 'pelas', 'este', 'dele', 'tu', 'te', 'vocês', 'vos', 'lhes', 'meus', 'minhas', 'teu', 'tua', 'teus', 'tuas', 'nosso', 'nossa', 'nossos', 'nossas', 'dela', 'delas', 'esta', 'estes', 'estas', 'aquele', 'aquela', 'aqueles', 'aquelas', 'isto', 'aquilo', 'estou', 'está', 'estamos', 'estão', 'estive', 'esteve', 'estivemos', 'estiveram', 'estava', 'estávamos', 'estavam', 'estivera', 'estivéramos', 'esteja', 'estejamos', 'estejam', 'estivesse', 'estivéssemos', 'estivessem', 'estiver', 'estivermos', 'estiverem', 'hei', 'há', 'havemos', 'hão', 'houve', 'houvemos', 'houveram', 'houvera', 'houvéramos', 'haja', 'hajamos', 'hajam', 'houvesse', 'houvéssemos', 'houvessem', 'houver', 'houvermos', 'houverem', 'houverei', 'houverá', 'houveremos', 'houverão', 'houveria', 'houveríamos', 'houveriam', 'sou', 'somos', 'são', 'era', 'éramos', 'eram', 'fui', 'foi', 'fomos', 'foram', 'fora', 'fôramos', 'seja', 'sejamos', 'sejam', 'fosse', 'fôssemos', 'fossem', 'for', 'formos', 'forem', 'serei', 'será', 'seremos', 'serão', 'seria', 'seríamos', 'seriam', 'tenho', 'tem', 'temos', 'tém', 'tinha', 'tínhamos', 'tinham', 'tive', 'teve', 'tivemos', 'tiveram', 'tivera', 'tivéramos', 'tenha', 'tenhamos', 'tenham', 'tivesse', 'tivéssemos', 'tivessem', 'tiver', 'tivermos', 'tiverem', 'terei', 'terá', 'teremos', 'terão', 'teria', 'teríamos', 'teriam']\n",
      "testet\n",
      "tknzr_WordPunctTokenizer ...: ['estou', '.', 'torcendo', ':)', 'poooooor', ':', 'todos', 'nós', ':(', '12', '3', '7474', '!!']\n",
      "tknzr_NLTKWordTokenizer ....: ['estou.torcendo', ':', ')', 'poooooor', ':', 'todos', 'nós', ':', '(', '12', '3', '7474', '!', '!']\n",
      "tknzr_TweetTokenizer .......: ['estou.torcendo', ':)', 'pooor', ':', 'todos', 'nós', ':(', '12', '3', '7474', '!', '!']\n",
      "Original:\n",
      " Estou.torcendo :) poooooor: todos nós :( 12 3 7474 !! \n",
      "Meu pipeline .......:\n",
      " torcendo por todos\n"
     ]
    }
   ],
   "source": [
    "# import re\n",
    "# print(  re.sub(r'(.)\\1+', r'\\1', \"teeeeesssssteett\" ) )\n",
    "\n",
    "\n",
    "def XXXX(x):\n",
    "    tkn = tknzr_WordPunctTokenizer.tokenize(x.lower())\n",
    "    tkn = [  re.sub(r'(.)\\1+', r'\\1', w )  for w in tkn if w not in stopwords and w.isalpha() and len(w) < 14 ]\n",
    "#     and w.isalpha()\n",
    "    if len(tkn) > 70:\n",
    "        tkn = ' '.join( tkn[0:35] + ['#'] + tkn[-35:] )\n",
    "    else:\n",
    "        tkn = ' '.join( tkn )\n",
    "    return tkn\n",
    "\n",
    "\n",
    "from nltk.tokenize import TweetTokenizer\n",
    "tknzr_TweetTokenizer = TweetTokenizer(strip_handles=False, reduce_len=True)\n",
    "\n",
    "from nltk.tokenize.destructive import NLTKWordTokenizer\n",
    "tknzr_NLTKWordTokenizer = NLTKWordTokenizer()\n",
    "\n",
    "# from nltk.tokenize import MWETokenizer\n",
    "# tknzr = MWETokenizer()\n",
    "from nltk.tokenize import WordPunctTokenizer\n",
    "tknzr_WordPunctTokenizer = WordPunctTokenizer()\n",
    "\n",
    "from nltk.corpus import stopwords as nltk_stopwords\n",
    "\n",
    "stopwords = nltk_stopwords.words('portuguese')\n",
    "print( \"Stopwords.......:\", stopwords )\n",
    "\n",
    "import re\n",
    "print(  re.sub(r'(.)\\1+', r'\\1', \"teeeeesssssteett\" ) )\n",
    "\n",
    "text = \"Estou.torcendo :) poooooor: todos nós :( 12 3 7474 !! \"\n",
    "print( \"tknzr_WordPunctTokenizer ...:\", tknzr_WordPunctTokenizer.tokenize(text.lower()) )\n",
    "print( \"tknzr_NLTKWordTokenizer ....:\", tknzr_NLTKWordTokenizer.tokenize(text.lower()) )\n",
    "print( \"tknzr_TweetTokenizer .......:\", tknzr_TweetTokenizer.tokenize(text.lower()) )\n",
    "\n",
    "print( \"Original:\\n\", text )\n",
    "print( \"Meu pipeline .......:\\n\", XXXX( text ) )\n",
    "\n",
    "\n",
    "# ' '.join(tknzr_WordPunctTokenizer.tokenize(text.lower()))\n",
    "\n",
    "# import string\n",
    "# s = '... some string with punctuation ...'\n",
    "# s = s.translate(None, string.punctuation)"
   ]
  },
  {
   "cell_type": "code",
   "execution_count": 39,
   "metadata": {},
   "outputs": [],
   "source": [
    "# Definindo as variáveis do projeto\n",
    "TAMMAX_SENTENCE =50\n",
    "VOCAB_SIZE = 20000\n",
    "\n",
    "embed_dim = 50 # tamanho do Embedding de cada token ( também do word2vec da NILC)\n",
    "\n",
    "# Path para o arquivo de dados da b2w\n",
    "B2W_DATAFILE = \"/home/wseidel/workspaces/usp/b2w-reviews01/B2W-Reviews01.csv\"\n",
    "# B2W_DATAFILE = \"/home/wesley/workspaces/usp/data/b2w/B2W-Reviews01.csv\"\n",
    "# B2W_DATAFILE = \"/home/wseidel/workspaces/usp/b2w-reviews01/B2W-10k.csv\"\n",
    "\n",
    "\n",
    "# Path para o arquivo de dados de embeddings do NILC\n",
    "NILC_W2V_DATAFILE = \"/home/wseidel/workspaces/usp/NILC/word2vec_200k.txt\"\n",
    "# NILC_W2V_DATAFILE = \"/home/wesley/workspaces/usp/data/nilc/word2vec_200k.txt\""
   ]
  },
  {
   "cell_type": "code",
   "execution_count": 40,
   "metadata": {},
   "outputs": [],
   "source": [
    "# Carregar dados a serem analisados\n",
    "b2wCorpus = pd.read_csv(B2W_DATAFILE, sep=';', usecols=[\"review_text\", \"overall_rating\"])\n",
    "\n",
    "# Carregar o Word2Vec do NILC\n",
    "model_w2v = KeyedVectors.load_word2vec_format(NILC_W2V_DATAFILE)"
   ]
  },
  {
   "cell_type": "code",
   "execution_count": 48,
   "metadata": {},
   "outputs": [
    {
     "name": "stdout",
     "output_type": "stream",
     "text": [
      "train..: 79423 0.6\n",
      "test...: 39712 0.3\n",
      "val....: 13238 0.1\n",
      "----------------------------------------\n",
      "x_train..: 79423 Last value(Y,X)..: [ 2 ]  pena que não tem desconto pena que não tem desconto pena que não tem desconto pena que não tem desconto pena que não tem desconto pena que não tem desconto pena que não tem desconto pena que não tem desconto pena que não tem desconto pena que não tem desconto pena que não tem desconto pena que não tem desconto pena que não tem desconto pena que não tem desconto pena que não tem desconto pena que não tem desconto pena que não tem desconto pena que não tem desconto pena que não tem desconto pena que não tem desconto pena que não tem desconto pena que não tem desconto pena que não tem desconto pena que não tem desconto pena que não tem desconto pena que não tem desconto pena que não tem desconto pena que não tem desconto pena que não tem desconto pena que não tem desconto pena que não tem desconto pena que não tem desconto pena que não tem desconto pena que não tem desconto pena que não tem desconto pena que não tem desconto pena que não tem desconto pena que não tem desconto pena que não tem desconto pena que não tem desconto pena que não tem desconto pena que não tem desconto pena que não tem desconto pena que não tem desconto pena que não tem desconto pena que não tem desconto pena que não tem desconto pena que não tem desconto pena que não tem desconto pena que não tem desconto pena que não tem desconto pena que não tem desconto pena que não tem desconto pena que não tem desconto pena que não tem desconto pena que não tem desconto pena que não tem desconto pena que não tem desconto pena que não tem desconto pena que não tem desconto pena que não tem desconto pena que não tem desconto pena que não tem desconto pena que não tem desconto pena que não tem desconto pena que não tem desconto pena que não tem desconto pena que não tem desconto pena que não tem desconto pena que não tem desconto pena que não tem desconto pena que não tem desconto pena que não tem desconto pena que não tem desconto pena que não tem desconto pena que não tem desconto pena que não tem desconto pena que não tem desconto pena que não tem desconto pena que não tem desconto pena que não tem desconto pena que não tem desconto pena que não tem desconto pena que não tem desconto pena que não tem desconto pena que não tem desconto pena que não tem desconto pena que não tem desconto pena que não tem desconto pena que não tem desconto pena que não tem desconto pena que não tem desconto pena que não tem desconto pena que não tem desconto pena que não tem desconto pena que não tem desconto pena que não tem desconto pena que não tem desconto pena que não tem desconto pena que não tem desconto pena que não tem desconto pena que não tem desconto pena que não tem desconto pena que não tem desconto pena que não tem desconto pena que não tem desconto pena que não tem desconto pena que não tem desconto pena que não tem desconto pena que não tem desconto pena que não tem desconto pena que não tem desconto pena que não tem desconto pena que não tem desconto pena que não tem desconto pena que não tem desconto pena que não tem desconto pena que não tem desconto pena que não tem desconto pena que não tem desconto pena que não tem desconto pena que não tem desconto pena que não tem desconto pena que não tem desconto pena que não tem desconto pena que não tem desconto pena que não tem desconto pena que não tem desconto pena que não tem desconto pena que não tem desconto pena que não tem desconto pena que não tem desconto pena que não tem desconto pena que não tem desconto pena que não tem desconto pena que não tem desconto pena que não tem desconto pena que não tem desconto pena que não tem desconto pena que não tem desconto pena que não tem desconto pena que não tem desconto pena que não tem desconto pena que não tem desconto pena que não tem desconto pena que não tem desconto pena que não tem desconto pena que não tem desconto pena que não tem desconto pena que não tem desconto pena que não tem desconto pena que não tem desconto pena que não tem desconto pena que não tem desconto pena que não tem desconto pena que não tem desconto pena que não tem desconto pena que não tem desconto pena que não tem desconto\n",
      "x_train..: 79423 Last value(Y,X)..: [ 0 ]  comprei esa babá eletrônica aqui na americanas . com , mas que estava sendo vendida e entregue por uma \" parceira \", a japão shop . até aí , tudo bem , tem a asinatura americanas , né ?! comecei a estranhar que , pasados uns 10 dias , no status do pedido , constava apenas como \" nota fiscal emitida \" ( pedido feito em 13 / 01 / 18 com entrega prevista para 09 / 02 / 18 ) - repetindo : já com uns 10 dias após a compra -. enviei um questionamento do porque não haver uma atualização em \" tempo real \" do pedido e recebi a resposta da japão shop ( via americanas . com ), que dizia : \" dt prometida : 09 / 02 / 2018 este é o prazo que asim que você realizou a compra foi mostrado e aceito por você , portanto até este prazo será entregue seu item . mas fique tranquilo que dentro de 2 dias úteis no máximo você receberá mais informações .\". o status foi atualizado ( até hoje , 10 / 02 / 18 )? não ! vamos lá . já nesta semana que seria a semana da entrega deveria ter atualização do status do pedido , certo ? erado ! faltando apenas 4 dias para a data prevista ( data limite para entrega ), nada de atualização ! somente constava \" nota fiscal emitida \", o mesmo aconteceu com 3 dias , 2 dias , 1 dia e no próprio dia da entrega ( 09 / 02 / 18 ), estou olhando agora para o status da entrega , sendo hoje já o dia 10 / 02 / 18 e consta lá no status como \" nota fiscal emitida \". quero frisar aqui outra coisa : embora conste a \" nota fiscal emitida \" ( eletrônica ), quando eu tento visualizar a tal nota ( nfe do ministério da fazenda , o site diz que o número está erado ! sério ?!), sempre dá ero , diz que o número está erado e a nota nunca é gerada pra mim . nunca consegui ver a tal nota . iso é um total desrespeito com o consumidor ! e quanto à entrega ? nem sequer o produto se encontra em transporte ? e se se encontra porque não foi atualizado no status ? eu como destinatário da encomenda devo deixar alguém ciente de que uma encomenda chegará pra mim não tenho que saber ( ter ideia ) de que o produto está prestes a chegar ? pois é , o prazo venceu e eu nem sequer sei se o produto saiu do estoque da japão shop ! ah se eu tivese como colocar o print ou uma foto do status ! chega a dar raiva ! iso é um total desrespeito com o consumidor ! estou pagando pelo produto e não recebendo uma doação ! se ese produto não for entregue em minha residência até o dia 15 / 02 ( hoje começa o feriado de carnaval ), vai pro reclame aqui e procon ! não comprem com a japão shop ! americanas , selecione melhor seus parceiros !\n",
      "x_test...: 39712 Last value(Y,X)..: [ 2 ]  compraria novamente muito bom gotei tambem da entrega muito rapida\n",
      "x_val....: 13238 Last value(Y,X)..: [ 4 ]  além de dar a minha opinião eu ainda tenho que fazer um texto grande puxa vida hein não pode ser um texto curto então a gente rola aqui , a pipoqueiro é muito boa bonita barata .\n"
     ]
    }
   ],
   "source": [
    "def train_test_val_split(dataset, train_size=0.6, test_size=0.3, colname_stratify='overall_rating',random_seed=29):\n",
    "    val_size = 1 - round((train_size + test_size),1)\n",
    "    split_train_test_size = test_size + val_size\n",
    "\n",
    "    train, val = train_test_split(dataset, \n",
    "                                  test_size=split_train_test_size, \n",
    "                                  stratify=dataset[colname_stratify], \n",
    "                                  random_state=random_seed)\n",
    "\n",
    "    test, val = train_test_split(val, \n",
    "                                  test_size=val_size/split_train_test_size, \n",
    "                                  stratify=val[colname_stratify], \n",
    "                                  random_state=random_seed)\n",
    "    return train.reset_index(drop=True), test, val\n",
    "\n",
    "def sort_by_size(df, col_to_sort):\n",
    "    df['sentence_length'] = df[col_to_sort].apply(lambda x: len(x.split()))\n",
    "    df.sort_values(by=['sentence_length'], inplace=True, ignore_index=True)\n",
    "    return df\n",
    "\n",
    "def getXY(serieX, serieY, padding_maxlen=50):\n",
    "#     x_train = keras.preprocessing.sequence.pad_sequences(train['review_text_clean'], maxlen=padding_maxlen, padding='post')\n",
    "    x_ = serieX.values\n",
    "    y_ = serieY.values\n",
    "    return x_, y_\n",
    "\n",
    "\n",
    "\n",
    "# train, test, val = train_test_val_split(df_to_work, train_size=0.75, test_size=0.15)\n",
    "df_to_work = b2wCorpus\n",
    "\n",
    "values_to_retain=[1,2,3,4,5]\n",
    "df_to_work = df_to_work[df_to_work['overall_rating'].isin(values_to_retain)]\n",
    "# df_to_work\n",
    "df_to_work['overall_rating'] = df_to_work.overall_rating.apply(lambda x: x-1)\n",
    "\n",
    "# # Aplicando o sentence_to_nilc_index_token\n",
    "# df_to_work['review_text_clean'] = df_to_work.review_text.apply(lambda x: sentence_to_nilc_index_token(x))\n",
    "\n",
    "def XXXX(x):\n",
    "    tkn = tknzr_WordPunctTokenizer.tokenize(x.lower())\n",
    "#     tkn = [  re.sub(r'(.)\\1+', r'\\1', w )  for w in tkn if w not in stopwords and w.isalpha() and len(w) < 14 ]\n",
    "    tkn = [  re.sub(r'(.)\\1+', r'\\1', w )  for w in tkn ]\n",
    "#     and w.isalpha()\n",
    "#     if len(tkn) > 70:\n",
    "#         tkn = ' '.join( tkn[0:35] + ['#'] + tkn[-35:] )\n",
    "#     else:\n",
    "    tkn = ' '.join( tkn )\n",
    "    return tkn\n",
    "\n",
    "\n",
    "\n",
    "# df_to_work['review_text'] = df_to_work.review_text.apply(lambda x: ' '.join( tknzr_WordPunctTokenizer.tokenize(x.lower()) ))\n",
    "df_to_work['review_text'] = df_to_work.review_text.apply(lambda x: XXXX(x) )\n",
    "\n",
    "train, test, val = train_test_val_split(df_to_work)\n",
    "\n",
    "sort_by_size(train, 'review_text')\n",
    "\n",
    "\n",
    "x_train, y_train = getXY(train['review_text'], train['overall_rating'])\n",
    "x_test,  y_test  = getXY(test['review_text'], test['overall_rating'])\n",
    "x_val,   y_val   = getXY(val['review_text'], val['overall_rating'])\n",
    "\n",
    "\n",
    "print(\"train..:\", len(train), round(len(train) / len(df_to_work),3) ) \n",
    "print(\"test...:\", len(test), round(len(test) / len(df_to_work),3) )\n",
    "print(\"val....:\", len(val), round(len(val) / len(df_to_work),3) )\n",
    "print(\"--\" * 20) \n",
    "print(\"x_train..:\", len(x_train), \"Last value(Y,X)..: [\", y_train[-1], \"] \", x_train[-1] )\n",
    "print(\"x_train..:\", len(x_train), \"Last value(Y,X)..: [\", y_train[-10], \"] \", x_train[-10] )\n",
    "print(\"x_test...:\", len(x_test),  \"Last value(Y,X)..: [\", y_test[-1], \"] \", x_test[-1] )\n",
    "print(\"x_val....:\", len(x_val),  \"Last value(Y,X)..: [\", y_val[-1], \"] \", x_val[-1] )"
   ]
  },
  {
   "cell_type": "code",
   "execution_count": 49,
   "metadata": {},
   "outputs": [
    {
     "name": "stderr",
     "output_type": "stream",
     "text": [
      "/home/wseidel/virtualenvs/mac5725-NLP/lib/python3.8/site-packages/tensorflow/python/keras/layers/preprocessing/text_vectorization.py:338: VisibleDeprecationWarning: Creating an ndarray from ragged nested sequences (which is a list-or-tuple of lists-or-tuples-or ndarrays with different lengths or shapes) is deprecated. If you meant to do this, you must specify 'dtype=object' when creating the ndarray\n",
      "  return np.array(preprocessed_data.to_list())\n"
     ]
    }
   ],
   "source": [
    "vectorize_layer = tf.keras.layers.experimental.preprocessing.TextVectorization(\n",
    "    max_tokens= VOCAB_SIZE,#MAX_TOKENS,\n",
    "    standardize= 'lower_and_strip_punctuation', # None\n",
    "#     standardize=None,\n",
    "    output_mode='int', # \"int\", \"binary\", \"count\" or \"tf-idf\",\n",
    "    output_sequence_length= TAMMAX_SENTENCE  # Only valid in INT mode.\n",
    ")\n",
    "\n",
    "vectorize_layer.adapt(x_train)"
   ]
  },
  {
   "cell_type": "code",
   "execution_count": 50,
   "metadata": {},
   "outputs": [
    {
     "name": "stdout",
     "output_type": "stream",
     "text": [
      "tf.Tensor(\n",
      "[[938   4 764   1 306   2   3   4   1   0   0   0   0   0   0   0   0   0\n",
      "    0   0   0   0   0   0   0   0   0   0   0   0   0   0   0   0   0   0\n",
      "    0   0   0   0   0   0   0   0   0   0   0   0   0   0]], shape=(1, 50), dtype=int64)\n",
      "50\n"
     ]
    }
   ],
   "source": [
    "# vectorize_layer.get_vocabulary()[0]\n",
    "print(  vectorize_layer([[\"vamos a la , poor sim e o a vamos.a\"]]) )\n",
    "print(  len( vectorize_layer([[\"vamos a la , poor sim e o a vamos.a\"]])[0]) )\n",
    "\n",
    "# voc = vectorize_layer.get_vocabulary()\n",
    "# word_index = dict(zip(voc, range(2,len(voc))))\n",
    "# print( word_index.get(b'e',1) )"
   ]
  },
  {
   "cell_type": "code",
   "execution_count": 51,
   "metadata": {},
   "outputs": [
    {
     "name": "stdout",
     "output_type": "stream",
     "text": [
      "True\n",
      "[ 0.327817 -0.046486 -0.035211  0.336974  0.222097  0.233713 -0.162169\n",
      "  0.149764  0.05723  -0.514274  0.166825 -0.277698 -0.0505    0.129016\n",
      "  0.323467  0.192564  0.254657  0.044863 -0.424474 -0.06145  -0.003705\n",
      " -0.074031  0.155225  0.177354 -0.041996 -0.121522  0.140458  0.374408\n",
      "  0.17874   0.252357  0.357419  0.345899 -0.210592  0.042722 -0.249315\n",
      " -0.229042  0.052943  0.107606 -0.310207  0.05263  -0.27051   0.091217\n",
      "  0.098549  0.343337  0.262118 -0.141338  0.236483 -0.252186 -0.373523\n",
      "  0.326753]\n"
     ]
    }
   ],
   "source": [
    "word = 'ewe'\n",
    "print(word in model_w2v.vocab)\n",
    "# print(model_w2v.vocab.get( word ))\n",
    "# print(model_w2v.get_vector( word ))\n",
    "print(model_w2v[ word ])"
   ]
  },
  {
   "cell_type": "code",
   "execution_count": 52,
   "metadata": {},
   "outputs": [
    {
     "name": "stdout",
     "output_type": "stream",
     "text": [
      "Converted 16202 words (3795 misses)\n"
     ]
    }
   ],
   "source": [
    "# https://keras.io/examples/nlp/pretrained_word_embeddings/#create-a-vocabulary-index\n",
    "voc = vectorize_layer.get_vocabulary()\n",
    "word_index = dict(zip(voc, range(2,len(voc))))\n",
    "\n",
    "num_tokens = len(voc) + 2\n",
    "embedding_dim = 50\n",
    "hits = 0\n",
    "misses = 0\n",
    "\n",
    "\n",
    "# Prepare embedding matrix\n",
    "embedding_matrix = np.zeros((num_tokens, embedding_dim))\n",
    "for word, i in word_index.items():\n",
    "    if word.decode('UTF-8') in model_w2v.vocab:\n",
    "        embedding_matrix[i] = model_w2v[ word.decode('UTF-8') ]\n",
    "        hits += 1\n",
    "    else:\n",
    "        misses += 1\n",
    "\n",
    "print(\"Converted %d words (%d misses)\" % (hits, misses))\n",
    "\n",
    "nilc_embedding_layer = layers.Embedding(\n",
    "    num_tokens,\n",
    "    embedding_dim,\n",
    "    embeddings_initializer=keras.initializers.Constant(embedding_matrix),\n",
    "    trainable=False,\n",
    ")\n",
    "\n",
    "# word_index\n",
    "# embedding_matrix"
   ]
  },
  {
   "cell_type": "code",
   "execution_count": 53,
   "metadata": {},
   "outputs": [
    {
     "name": "stdout",
     "output_type": "stream",
     "text": [
      "Model: \"sequential_11\"\n",
      "_________________________________________________________________\n",
      "Layer (type)                 Output Shape              Param #   \n",
      "=================================================================\n",
      "text_vectorization_3 (TextVe (None, 50)                0         \n",
      "_________________________________________________________________\n",
      "embedding_12 (Embedding)     (None, 50, 50)            1000050   \n",
      "_________________________________________________________________\n",
      "lstm_10 (LSTM)               (None, 32)                10624     \n",
      "_________________________________________________________________\n",
      "dropout_10 (Dropout)         (None, 32)                0         \n",
      "_________________________________________________________________\n",
      "dense_10 (Dense)             (None, 5)                 165       \n",
      "=================================================================\n",
      "Total params: 1,010,839\n",
      "Trainable params: 1,010,839\n",
      "Non-trainable params: 0\n",
      "_________________________________________________________________\n"
     ]
    }
   ],
   "source": [
    "\n",
    "def get_model(vocab_size=1000, dropout_prob=0.0):\n",
    "#     embedding_layer = model_w2v.get_keras_embedding()\n",
    "#     embedding_layer.trainable = True\n",
    "\n",
    "    model = keras.Sequential()\n",
    "#     model.add(layers.Input(shape=(TAMMAX_SENTENCE, )))\n",
    "    model.add(layers.Input(shape=(1,), dtype=tf.string))\n",
    "    model.add(vectorize_layer)\n",
    "    model.add(layers.Embedding(vocab_size+1, 50, input_length=TAMMAX_SENTENCE))\n",
    "#     model.add(nilc_embedding_layer)\n",
    "#     model.add(embedding_layer)\n",
    "    model.add(layers.LSTM(32))\n",
    "    \n",
    "#     model.add(layers.Dense(64, activation='relu'))\n",
    "\n",
    "    model.add(layers.Dropout(dropout_prob))\n",
    "    model.add(keras.layers.Dense(5, activation='softmax'))\n",
    "    \n",
    "    return model\n",
    "\n",
    "model = get_model( vocab_size=VOCAB_SIZE, dropout_prob=0)\n",
    "\n",
    "model.compile(\"adam\", \"sparse_categorical_crossentropy\", metrics=[\"accuracy\"])\n",
    "\n",
    "model.summary()"
   ]
  },
  {
   "cell_type": "code",
   "execution_count": 54,
   "metadata": {},
   "outputs": [
    {
     "data": {
      "text/plain": [
       "20000"
      ]
     },
     "execution_count": 54,
     "metadata": {},
     "output_type": "execute_result"
    }
   ],
   "source": [
    "# Exemplo a implementar\n",
    "# name = 'm1_lstm_drop0.0'\n",
    "# model = get_lstm_model(dropout_prob=0.5)\n",
    "# es = EarlyStopping(monitor='val_loss', mode='min', verbose=1, patience=10)\n",
    "# mc = ModelCheckpoint('../model_data/' + name + 'best_model.h5', monitor='val_loss', mode='min', save_best_only=True)\n",
    "# history = model.fit(x_train, y_train, batch_size=64, epochs=100, validation_data=(x_val, y_val), callbacks=[es, mc])\n",
    "# save_history(history, name)\n",
    "# model.evaluate(x_test, y_test)\n",
    "# display_loss_plot(history, name)\n",
    "# display_acc_plot(history, name)\n",
    "VOCAB_SIZE"
   ]
  },
  {
   "cell_type": "code",
   "execution_count": 108,
   "metadata": {},
   "outputs": [
    {
     "name": "stdout",
     "output_type": "stream",
     "text": [
      "Epoch 1/10\n",
      "  71/2482 [..............................] - ETA: 1:21 - loss: 0.6197 - accuracy: 0.7302"
     ]
    },
    {
     "ename": "KeyboardInterrupt",
     "evalue": "",
     "output_type": "error",
     "traceback": [
      "\u001b[0;31m---------------------------------------------------------------------------\u001b[0m",
      "\u001b[0;31mKeyboardInterrupt\u001b[0m                         Traceback (most recent call last)",
      "\u001b[0;32m<ipython-input-108-abf5c74c9230>\u001b[0m in \u001b[0;36m<module>\u001b[0;34m\u001b[0m\n\u001b[1;32m      8\u001b[0m \u001b[0mQNT_EPOCAS_TREINO\u001b[0m \u001b[0;34m=\u001b[0m \u001b[0;36m10\u001b[0m\u001b[0;34m\u001b[0m\u001b[0;34m\u001b[0m\u001b[0m\n\u001b[1;32m      9\u001b[0m \u001b[0;34m\u001b[0m\u001b[0m\n\u001b[0;32m---> 10\u001b[0;31m history = model.fit(\n\u001b[0m\u001b[1;32m     11\u001b[0m     \u001b[0mx_train\u001b[0m\u001b[0;34m,\u001b[0m \u001b[0my_train\u001b[0m\u001b[0;34m,\u001b[0m\u001b[0;34m\u001b[0m\u001b[0;34m\u001b[0m\u001b[0m\n\u001b[1;32m     12\u001b[0m     \u001b[0mbatch_size\u001b[0m\u001b[0;34m=\u001b[0m\u001b[0;36m32\u001b[0m\u001b[0;34m,\u001b[0m\u001b[0;34m\u001b[0m\u001b[0;34m\u001b[0m\u001b[0m\n",
      "\u001b[0;32m~/virtualenvs/mac5725-NLP/lib/python3.8/site-packages/tensorflow/python/keras/engine/training.py\u001b[0m in \u001b[0;36m_method_wrapper\u001b[0;34m(self, *args, **kwargs)\u001b[0m\n\u001b[1;32m     64\u001b[0m   \u001b[0;32mdef\u001b[0m \u001b[0m_method_wrapper\u001b[0m\u001b[0;34m(\u001b[0m\u001b[0mself\u001b[0m\u001b[0;34m,\u001b[0m \u001b[0;34m*\u001b[0m\u001b[0margs\u001b[0m\u001b[0;34m,\u001b[0m \u001b[0;34m**\u001b[0m\u001b[0mkwargs\u001b[0m\u001b[0;34m)\u001b[0m\u001b[0;34m:\u001b[0m\u001b[0;34m\u001b[0m\u001b[0;34m\u001b[0m\u001b[0m\n\u001b[1;32m     65\u001b[0m     \u001b[0;32mif\u001b[0m \u001b[0;32mnot\u001b[0m \u001b[0mself\u001b[0m\u001b[0;34m.\u001b[0m\u001b[0m_in_multi_worker_mode\u001b[0m\u001b[0;34m(\u001b[0m\u001b[0;34m)\u001b[0m\u001b[0;34m:\u001b[0m  \u001b[0;31m# pylint: disable=protected-access\u001b[0m\u001b[0;34m\u001b[0m\u001b[0;34m\u001b[0m\u001b[0m\n\u001b[0;32m---> 66\u001b[0;31m       \u001b[0;32mreturn\u001b[0m \u001b[0mmethod\u001b[0m\u001b[0;34m(\u001b[0m\u001b[0mself\u001b[0m\u001b[0;34m,\u001b[0m \u001b[0;34m*\u001b[0m\u001b[0margs\u001b[0m\u001b[0;34m,\u001b[0m \u001b[0;34m**\u001b[0m\u001b[0mkwargs\u001b[0m\u001b[0;34m)\u001b[0m\u001b[0;34m\u001b[0m\u001b[0;34m\u001b[0m\u001b[0m\n\u001b[0m\u001b[1;32m     67\u001b[0m \u001b[0;34m\u001b[0m\u001b[0m\n\u001b[1;32m     68\u001b[0m     \u001b[0;31m# Running inside `run_distribute_coordinator` already.\u001b[0m\u001b[0;34m\u001b[0m\u001b[0;34m\u001b[0m\u001b[0;34m\u001b[0m\u001b[0m\n",
      "\u001b[0;32m~/virtualenvs/mac5725-NLP/lib/python3.8/site-packages/tensorflow/python/keras/engine/training.py\u001b[0m in \u001b[0;36mfit\u001b[0;34m(self, x, y, batch_size, epochs, verbose, callbacks, validation_split, validation_data, shuffle, class_weight, sample_weight, initial_epoch, steps_per_epoch, validation_steps, validation_batch_size, validation_freq, max_queue_size, workers, use_multiprocessing, **kwargs)\u001b[0m\n\u001b[1;32m    849\u001b[0m                 batch_size=batch_size):\n\u001b[1;32m    850\u001b[0m               \u001b[0mcallbacks\u001b[0m\u001b[0;34m.\u001b[0m\u001b[0mon_train_batch_begin\u001b[0m\u001b[0;34m(\u001b[0m\u001b[0mstep\u001b[0m\u001b[0;34m)\u001b[0m\u001b[0;34m\u001b[0m\u001b[0;34m\u001b[0m\u001b[0m\n\u001b[0;32m--> 851\u001b[0;31m               \u001b[0mtmp_logs\u001b[0m \u001b[0;34m=\u001b[0m \u001b[0mtrain_function\u001b[0m\u001b[0;34m(\u001b[0m\u001b[0miterator\u001b[0m\u001b[0;34m)\u001b[0m\u001b[0;34m\u001b[0m\u001b[0;34m\u001b[0m\u001b[0m\n\u001b[0m\u001b[1;32m    852\u001b[0m               \u001b[0;31m# Catch OutOfRangeError for Datasets of unknown size.\u001b[0m\u001b[0;34m\u001b[0m\u001b[0;34m\u001b[0m\u001b[0;34m\u001b[0m\u001b[0m\n\u001b[1;32m    853\u001b[0m               \u001b[0;31m# This blocks until the batch has finished executing.\u001b[0m\u001b[0;34m\u001b[0m\u001b[0;34m\u001b[0m\u001b[0;34m\u001b[0m\u001b[0m\n",
      "\u001b[0;32m~/virtualenvs/mac5725-NLP/lib/python3.8/site-packages/tensorflow/python/eager/def_function.py\u001b[0m in \u001b[0;36m__call__\u001b[0;34m(self, *args, **kwds)\u001b[0m\n\u001b[1;32m    578\u001b[0m         \u001b[0mxla_context\u001b[0m\u001b[0;34m.\u001b[0m\u001b[0mExit\u001b[0m\u001b[0;34m(\u001b[0m\u001b[0;34m)\u001b[0m\u001b[0;34m\u001b[0m\u001b[0;34m\u001b[0m\u001b[0m\n\u001b[1;32m    579\u001b[0m     \u001b[0;32melse\u001b[0m\u001b[0;34m:\u001b[0m\u001b[0;34m\u001b[0m\u001b[0;34m\u001b[0m\u001b[0m\n\u001b[0;32m--> 580\u001b[0;31m       \u001b[0mresult\u001b[0m \u001b[0;34m=\u001b[0m \u001b[0mself\u001b[0m\u001b[0;34m.\u001b[0m\u001b[0m_call\u001b[0m\u001b[0;34m(\u001b[0m\u001b[0;34m*\u001b[0m\u001b[0margs\u001b[0m\u001b[0;34m,\u001b[0m \u001b[0;34m**\u001b[0m\u001b[0mkwds\u001b[0m\u001b[0;34m)\u001b[0m\u001b[0;34m\u001b[0m\u001b[0;34m\u001b[0m\u001b[0m\n\u001b[0m\u001b[1;32m    581\u001b[0m \u001b[0;34m\u001b[0m\u001b[0m\n\u001b[1;32m    582\u001b[0m     \u001b[0;32mif\u001b[0m \u001b[0mtracing_count\u001b[0m \u001b[0;34m==\u001b[0m \u001b[0mself\u001b[0m\u001b[0;34m.\u001b[0m\u001b[0m_get_tracing_count\u001b[0m\u001b[0;34m(\u001b[0m\u001b[0;34m)\u001b[0m\u001b[0;34m:\u001b[0m\u001b[0;34m\u001b[0m\u001b[0;34m\u001b[0m\u001b[0m\n",
      "\u001b[0;32m~/virtualenvs/mac5725-NLP/lib/python3.8/site-packages/tensorflow/python/eager/def_function.py\u001b[0m in \u001b[0;36m_call\u001b[0;34m(self, *args, **kwds)\u001b[0m\n\u001b[1;32m    609\u001b[0m       \u001b[0;31m# In this case we have created variables on the first call, so we run the\u001b[0m\u001b[0;34m\u001b[0m\u001b[0;34m\u001b[0m\u001b[0;34m\u001b[0m\u001b[0m\n\u001b[1;32m    610\u001b[0m       \u001b[0;31m# defunned version which is guaranteed to never create variables.\u001b[0m\u001b[0;34m\u001b[0m\u001b[0;34m\u001b[0m\u001b[0;34m\u001b[0m\u001b[0m\n\u001b[0;32m--> 611\u001b[0;31m       \u001b[0;32mreturn\u001b[0m \u001b[0mself\u001b[0m\u001b[0;34m.\u001b[0m\u001b[0m_stateless_fn\u001b[0m\u001b[0;34m(\u001b[0m\u001b[0;34m*\u001b[0m\u001b[0margs\u001b[0m\u001b[0;34m,\u001b[0m \u001b[0;34m**\u001b[0m\u001b[0mkwds\u001b[0m\u001b[0;34m)\u001b[0m  \u001b[0;31m# pylint: disable=not-callable\u001b[0m\u001b[0;34m\u001b[0m\u001b[0;34m\u001b[0m\u001b[0m\n\u001b[0m\u001b[1;32m    612\u001b[0m     \u001b[0;32melif\u001b[0m \u001b[0mself\u001b[0m\u001b[0;34m.\u001b[0m\u001b[0m_stateful_fn\u001b[0m \u001b[0;32mis\u001b[0m \u001b[0;32mnot\u001b[0m \u001b[0;32mNone\u001b[0m\u001b[0;34m:\u001b[0m\u001b[0;34m\u001b[0m\u001b[0;34m\u001b[0m\u001b[0m\n\u001b[1;32m    613\u001b[0m       \u001b[0;31m# Release the lock early so that multiple threads can perform the call\u001b[0m\u001b[0;34m\u001b[0m\u001b[0;34m\u001b[0m\u001b[0;34m\u001b[0m\u001b[0m\n",
      "\u001b[0;32m~/virtualenvs/mac5725-NLP/lib/python3.8/site-packages/tensorflow/python/eager/function.py\u001b[0m in \u001b[0;36m__call__\u001b[0;34m(self, *args, **kwargs)\u001b[0m\n\u001b[1;32m   2418\u001b[0m     \u001b[0;32mwith\u001b[0m \u001b[0mself\u001b[0m\u001b[0;34m.\u001b[0m\u001b[0m_lock\u001b[0m\u001b[0;34m:\u001b[0m\u001b[0;34m\u001b[0m\u001b[0;34m\u001b[0m\u001b[0m\n\u001b[1;32m   2419\u001b[0m       \u001b[0mgraph_function\u001b[0m\u001b[0;34m,\u001b[0m \u001b[0margs\u001b[0m\u001b[0;34m,\u001b[0m \u001b[0mkwargs\u001b[0m \u001b[0;34m=\u001b[0m \u001b[0mself\u001b[0m\u001b[0;34m.\u001b[0m\u001b[0m_maybe_define_function\u001b[0m\u001b[0;34m(\u001b[0m\u001b[0margs\u001b[0m\u001b[0;34m,\u001b[0m \u001b[0mkwargs\u001b[0m\u001b[0;34m)\u001b[0m\u001b[0;34m\u001b[0m\u001b[0;34m\u001b[0m\u001b[0m\n\u001b[0;32m-> 2420\u001b[0;31m     \u001b[0;32mreturn\u001b[0m \u001b[0mgraph_function\u001b[0m\u001b[0;34m.\u001b[0m\u001b[0m_filtered_call\u001b[0m\u001b[0;34m(\u001b[0m\u001b[0margs\u001b[0m\u001b[0;34m,\u001b[0m \u001b[0mkwargs\u001b[0m\u001b[0;34m)\u001b[0m  \u001b[0;31m# pylint: disable=protected-access\u001b[0m\u001b[0;34m\u001b[0m\u001b[0;34m\u001b[0m\u001b[0m\n\u001b[0m\u001b[1;32m   2421\u001b[0m \u001b[0;34m\u001b[0m\u001b[0m\n\u001b[1;32m   2422\u001b[0m   \u001b[0;34m@\u001b[0m\u001b[0mproperty\u001b[0m\u001b[0;34m\u001b[0m\u001b[0;34m\u001b[0m\u001b[0m\n",
      "\u001b[0;32m~/virtualenvs/mac5725-NLP/lib/python3.8/site-packages/tensorflow/python/eager/function.py\u001b[0m in \u001b[0;36m_filtered_call\u001b[0;34m(self, args, kwargs)\u001b[0m\n\u001b[1;32m   1659\u001b[0m       \u001b[0;31m`\u001b[0m\u001b[0margs\u001b[0m\u001b[0;31m`\u001b[0m \u001b[0;32mand\u001b[0m\u001b[0;31m \u001b[0m\u001b[0;31m`\u001b[0m\u001b[0mkwargs\u001b[0m\u001b[0;31m`\u001b[0m\u001b[0;34m.\u001b[0m\u001b[0;34m\u001b[0m\u001b[0;34m\u001b[0m\u001b[0m\n\u001b[1;32m   1660\u001b[0m     \"\"\"\n\u001b[0;32m-> 1661\u001b[0;31m     return self._call_flat(\n\u001b[0m\u001b[1;32m   1662\u001b[0m         (t for t in nest.flatten((args, kwargs), expand_composites=True)\n\u001b[1;32m   1663\u001b[0m          if isinstance(t, (ops.Tensor,\n",
      "\u001b[0;32m~/virtualenvs/mac5725-NLP/lib/python3.8/site-packages/tensorflow/python/eager/function.py\u001b[0m in \u001b[0;36m_call_flat\u001b[0;34m(self, args, captured_inputs, cancellation_manager)\u001b[0m\n\u001b[1;32m   1743\u001b[0m         and executing_eagerly):\n\u001b[1;32m   1744\u001b[0m       \u001b[0;31m# No tape is watching; skip to running the function.\u001b[0m\u001b[0;34m\u001b[0m\u001b[0;34m\u001b[0m\u001b[0;34m\u001b[0m\u001b[0m\n\u001b[0;32m-> 1745\u001b[0;31m       return self._build_call_outputs(self._inference_function.call(\n\u001b[0m\u001b[1;32m   1746\u001b[0m           ctx, args, cancellation_manager=cancellation_manager))\n\u001b[1;32m   1747\u001b[0m     forward_backward = self._select_forward_and_backward_functions(\n",
      "\u001b[0;32m~/virtualenvs/mac5725-NLP/lib/python3.8/site-packages/tensorflow/python/eager/function.py\u001b[0m in \u001b[0;36mcall\u001b[0;34m(self, ctx, args, cancellation_manager)\u001b[0m\n\u001b[1;32m    591\u001b[0m       \u001b[0;32mwith\u001b[0m \u001b[0m_InterpolateFunctionError\u001b[0m\u001b[0;34m(\u001b[0m\u001b[0mself\u001b[0m\u001b[0;34m)\u001b[0m\u001b[0;34m:\u001b[0m\u001b[0;34m\u001b[0m\u001b[0;34m\u001b[0m\u001b[0m\n\u001b[1;32m    592\u001b[0m         \u001b[0;32mif\u001b[0m \u001b[0mcancellation_manager\u001b[0m \u001b[0;32mis\u001b[0m \u001b[0;32mNone\u001b[0m\u001b[0;34m:\u001b[0m\u001b[0;34m\u001b[0m\u001b[0;34m\u001b[0m\u001b[0m\n\u001b[0;32m--> 593\u001b[0;31m           outputs = execute.execute(\n\u001b[0m\u001b[1;32m    594\u001b[0m               \u001b[0mstr\u001b[0m\u001b[0;34m(\u001b[0m\u001b[0mself\u001b[0m\u001b[0;34m.\u001b[0m\u001b[0msignature\u001b[0m\u001b[0;34m.\u001b[0m\u001b[0mname\u001b[0m\u001b[0;34m)\u001b[0m\u001b[0;34m,\u001b[0m\u001b[0;34m\u001b[0m\u001b[0;34m\u001b[0m\u001b[0m\n\u001b[1;32m    595\u001b[0m               \u001b[0mnum_outputs\u001b[0m\u001b[0;34m=\u001b[0m\u001b[0mself\u001b[0m\u001b[0;34m.\u001b[0m\u001b[0m_num_outputs\u001b[0m\u001b[0;34m,\u001b[0m\u001b[0;34m\u001b[0m\u001b[0;34m\u001b[0m\u001b[0m\n",
      "\u001b[0;32m~/virtualenvs/mac5725-NLP/lib/python3.8/site-packages/tensorflow/python/eager/execute.py\u001b[0m in \u001b[0;36mquick_execute\u001b[0;34m(op_name, num_outputs, inputs, attrs, ctx, name)\u001b[0m\n\u001b[1;32m     57\u001b[0m   \u001b[0;32mtry\u001b[0m\u001b[0;34m:\u001b[0m\u001b[0;34m\u001b[0m\u001b[0;34m\u001b[0m\u001b[0m\n\u001b[1;32m     58\u001b[0m     \u001b[0mctx\u001b[0m\u001b[0;34m.\u001b[0m\u001b[0mensure_initialized\u001b[0m\u001b[0;34m(\u001b[0m\u001b[0;34m)\u001b[0m\u001b[0;34m\u001b[0m\u001b[0;34m\u001b[0m\u001b[0m\n\u001b[0;32m---> 59\u001b[0;31m     tensors = pywrap_tfe.TFE_Py_Execute(ctx._handle, device_name, op_name,\n\u001b[0m\u001b[1;32m     60\u001b[0m                                         inputs, attrs, num_outputs)\n\u001b[1;32m     61\u001b[0m   \u001b[0;32mexcept\u001b[0m \u001b[0mcore\u001b[0m\u001b[0;34m.\u001b[0m\u001b[0m_NotOkStatusException\u001b[0m \u001b[0;32mas\u001b[0m \u001b[0me\u001b[0m\u001b[0;34m:\u001b[0m\u001b[0;34m\u001b[0m\u001b[0;34m\u001b[0m\u001b[0m\n",
      "\u001b[0;31mKeyboardInterrupt\u001b[0m: "
     ]
    }
   ],
   "source": [
    "# Ver lista06\n",
    "\n",
    "# Ler aqui pro batch generator:\n",
    "#     https://datascience.stackexchange.com/questions/48796/how-to-feed-lstm-with-different-input-array-sizes\n",
    "\n",
    "# Seu código aqui\n",
    "\n",
    "QNT_EPOCAS_TREINO = 10\n",
    "\n",
    "history = model.fit(\n",
    "    x_train, y_train, \n",
    "    batch_size=32, \n",
    "    epochs=QNT_EPOCAS_TREINO, \n",
    "    validation_data=(x_val, y_val)\n",
    ")\n",
    "\n",
    "loss, accuracy = model.evaluate(x=x_test,y=y_test)\n",
    "\n",
    "print(\"Loss: \", loss)\n",
    "print(\"Accuracy: \", accuracy)"
   ]
  },
  {
   "cell_type": "markdown",
   "metadata": {},
   "source": [
    "# Comparações \n",
    "\n",
    "## configs:\n",
    " - LSTM = 32\n",
    " - vocab_size = 1000\n",
    " - Embeddind = Zerado\n",
    " - Tokenizer padrão do TextVectorization\n",
    "    \n",
    "```\n",
    "Epoch 1/3\n",
    "2482/2482 [==============================] - 53s 21ms/step - loss: 1.0628 - accuracy: 0.5413 - val_loss: 0.9851 - val_accuracy: 0.5830\n",
    "Epoch 2/3\n",
    "2482/2482 [==============================] - 54s 22ms/step - loss: 0.9624 - accuracy: 0.5881 - val_loss: 0.9556 - val_accuracy: 0.5934\n",
    "Epoch 3/3\n",
    "2482/2482 [==============================] - 53s 21ms/step - loss: 0.9346 - accuracy: 0.5976 - val_loss: 0.9435 - val_accuracy: 0.5968\n",
    "1241/1241 [==============================] - 8s 7ms/step - loss: 0.9454 - accuracy: 0.5933\n",
    "Loss:  0.9453516602516174\n",
    "Accuracy:  0.5933470726013184\n",
    "```\n",
    "\n",
    "## configs:\n",
    " - LSTM = 32\n",
    " - vocab_size = 1000\n",
    " - Embeddind = Zerado\n",
    " - tknzr_WordPunctTokenizer (NLTK) + Tokenizer padrão do TextVectorization \n",
    "    \n",
    "```\n",
    "Epoch 1/10\n",
    "2482/2482 [==============================] - 56s 23ms/step - loss: 1.0530 - accuracy: 0.5473 - val_loss: 0.9864 - val_accuracy: 0.5678\n",
    "Epoch 2/10\n",
    "2482/2482 [==============================] - 54s 22ms/step - loss: 0.9563 - accuracy: 0.5878 - val_loss: 0.9343 - val_accuracy: 0.5979\n",
    "Epoch 3/10\n",
    "2482/2482 [==============================] - 53s 21ms/step - loss: 0.9300 - accuracy: 0.5993 - val_loss: 0.9297 - val_accuracy: 0.6015\n",
    "Epoch 4/10\n",
    "2482/2482 [==============================] - 53s 21ms/step - loss: 0.9099 - accuracy: 0.6064 - val_loss: 0.9220 - val_accuracy: 0.6045\n",
    "Epoch 5/10\n",
    "2482/2482 [==============================] - 53s 22ms/step - loss: 0.8970 - accuracy: 0.6103 - val_loss: 0.9292 - val_accuracy: 0.6044\n",
    "Epoch 6/10\n",
    "2482/2482 [==============================] - 53s 21ms/step - loss: 0.8835 - accuracy: 0.6147 - val_loss: 0.9215 - val_accuracy: 0.6052\n",
    "Epoch 7/10\n",
    "2482/2482 [==============================] - 53s 21ms/step - loss: 0.8728 - accuracy: 0.6192 - val_loss: 0.9154 - val_accuracy: 0.6067\n",
    "Epoch 8/10\n",
    "2482/2482 [==============================] - 54s 22ms/step - loss: 0.8627 - accuracy: 0.6230 - val_loss: 0.9170 - val_accuracy: 0.6066\n",
    "Epoch 9/10\n",
    "2482/2482 [==============================] - 54s 22ms/step - loss: 0.8527 - accuracy: 0.6287 - val_loss: 0.9211 - val_accuracy: 0.6039\n",
    "Epoch 10/10\n",
    "2482/2482 [==============================] - 55s 22ms/step - loss: 0.8437 - accuracy: 0.6312 - val_loss: 0.9213 - val_accuracy: 0.6039\n",
    "1241/1241 [==============================] - 8s 7ms/step - loss: 0.9257 - accuracy: 0.6052\n",
    "Loss:  0.9256511330604553\n",
    "Accuracy:  0.6052075028419495\n",
    "```\n",
    "\n",
    "## configs:\n",
    " - LSTM = 32\n",
    " - vocab_size = 20000\n",
    " - Embeddind = NILC (Feito de outra maneira e com Treinable desligado)\n",
    " - tknzr_WordPunctTokenizer (NLTK) + Tokenizer padrão do TextVectorization \n",
    "\n",
    "```\n",
    "Epoch 1/10\n",
    "2482/2482 [==============================] - 60s 24ms/step - loss: 1.1687 - accuracy: 0.5054 - val_loss: 1.0666 - val_accuracy: 0.5375\n",
    "Epoch 2/10\n",
    "2482/2482 [==============================] - 64s 26ms/step - loss: 1.0500 - accuracy: 0.5513 - val_loss: 1.0184 - val_accuracy: 0.5625\n",
    "Epoch 3/10\n",
    "2482/2482 [==============================] - 64s 26ms/step - loss: 1.0097 - accuracy: 0.5681 - val_loss: 0.9957 - val_accuracy: 0.5730\n",
    "Epoch 4/10\n",
    "2482/2482 [==============================] - 61s 25ms/step - loss: 0.9862 - accuracy: 0.5797 - val_loss: 0.9679 - val_accuracy: 0.5847\n",
    "Epoch 5/10\n",
    "2482/2482 [==============================] - 60s 24ms/step - loss: 0.9692 - accuracy: 0.5842 - val_loss: 0.9723 - val_accuracy: 0.5829\n",
    "Epoch 6/10\n",
    "2482/2482 [==============================] - 61s 25ms/step - loss: 0.9584 - accuracy: 0.5894 - val_loss: 0.9547 - val_accuracy: 0.5925\n",
    "Epoch 7/10\n",
    "2482/2482 [==============================] - 60s 24ms/step - loss: 0.9485 - accuracy: 0.5919 - val_loss: 0.9628 - val_accuracy: 0.5922\n",
    "Epoch 8/10\n",
    "2482/2482 [==============================] - 61s 24ms/step - loss: 0.9390 - accuracy: 0.5962 - val_loss: 0.9481 - val_accuracy: 0.5935\n",
    "Epoch 9/10\n",
    "2482/2482 [==============================] - 62s 25ms/step - loss: 0.9314 - accuracy: 0.5978 - val_loss: 0.9411 - val_accuracy: 0.5962\n",
    "Epoch 10/10\n",
    "2482/2482 [==============================] - 62s 25ms/step - loss: 0.9253 - accuracy: 0.6001 - val_loss: 0.9555 - val_accuracy: 0.5919\n",
    "1241/1241 [==============================] - 11s 9ms/step - loss: 0.9570 - accuracy: 0.5886\n",
    "Loss:  0.9570415019989014\n",
    "Accuracy:  0.5885878205299377\n",
    "```\n",
    "\n",
    "## configs:\n",
    " - LSTM = 32\n",
    " - vocab_size = 20000\n",
    " - Embeddind = NILC (Feito de outra maneira e com Treinable LIGADO)\n",
    " - tknzr_WordPunctTokenizer (NLTK) + Tokenizer padrão do TextVectorization \n",
    " - Dropout = 0\n",
    "\n",
    "```\n",
    "Epoch 1/10\n",
    "2482/2482 [==============================] - 92s 37ms/step - loss: 1.0463 - accuracy: 0.5476 - val_loss: 0.9601 - val_accuracy: 0.5870\n",
    "Epoch 2/10\n",
    "2482/2482 [==============================] - 93s 38ms/step - loss: 0.9105 - accuracy: 0.6058 - val_loss: 0.9235 - val_accuracy: 0.6042\n",
    "Epoch 3/10\n",
    "2482/2482 [==============================] - 100s 40ms/step - loss: 0.8504 - accuracy: 0.6326 - val_loss: 0.9225 - val_accuracy: 0.6120\n",
    "Epoch 4/10\n",
    "2482/2482 [==============================] - 97s 39ms/step - loss: 0.8035 - accuracy: 0.6549 - val_loss: 0.9515 - val_accuracy: 0.6067\n",
    "Epoch 5/10\n",
    "2482/2482 [==============================] - 96s 39ms/step - loss: 0.7576 - accuracy: 0.6777 - val_loss: 0.9500 - val_accuracy: 0.5953\n",
    "Epoch 6/10\n",
    "2482/2482 [==============================] - 95s 38ms/step - loss: 0.7131 - accuracy: 0.6990 - val_loss: 0.9918 - val_accuracy: 0.5965\n",
    "Epoch 7/10\n",
    "2482/2482 [==============================] - 97s 39ms/step - loss: 0.6657 - accuracy: 0.7206 - val_loss: 1.0642 - val_accuracy: 0.5860\n",
    "Epoch 8/10\n",
    "2482/2482 [==============================] - 96s 39ms/step - loss: 0.6215 - accuracy: 0.7393 - val_loss: 1.1474 - val_accuracy: 0.5801\n",
    "Epoch 9/10\n",
    "2482/2482 [==============================] - 97s 39ms/step - loss: 0.5775 - accuracy: 0.7580 - val_loss: 1.2161 - val_accuracy: 0.5840\n",
    "Epoch 10/10\n",
    "2482/2482 [==============================] - 97s 39ms/step - loss: 0.5411 - accuracy: 0.7742 - val_loss: 1.2183 - val_accuracy: 0.5745\n",
    "1241/1241 [==============================] - 10s 8ms/step - loss: 1.2242 - accuracy: 0.5756\n",
    "Loss:  1.2242217063903809\n",
    "Accuracy:  0.5756446123123169\n",
    "```\n",
    "## configs:\n",
    " - LSTM = 64\n",
    " - vocab_size = 20000\n",
    " - Embeddind = NILC (Feito de outra maneira e com Treinable LIGADO)\n",
    " - tknzr_WordPunctTokenizer (NLTK) + Tokenizer padrão do TextVectorization \n",
    "\n",
    "```\n",
    "Epoch 1/10\n",
    "2482/2482 [==============================] - 103s 42ms/step - loss: 1.0366 - accuracy: 0.5525 - val_loss: 0.9720 - val_accuracy: 0.5856\n",
    "Epoch 2/10\n",
    "2482/2482 [==============================] - 115s 46ms/step - loss: 0.9052 - accuracy: 0.6089 - val_loss: 0.9280 - val_accuracy: 0.5956\n",
    "Epoch 3/10\n",
    "2482/2482 [==============================] - 108s 43ms/step - loss: 0.8453 - accuracy: 0.6339 - val_loss: 0.9224 - val_accuracy: 0.6061\n",
    "Epoch 4/10\n",
    "2482/2482 [==============================] - 110s 44ms/step - loss: 0.7957 - accuracy: 0.6572 - val_loss: 0.9449 - val_accuracy: 0.6036\n",
    "Epoch 5/10\n",
    "2482/2482 [==============================] - 108s 43ms/step - loss: 0.7469 - accuracy: 0.6807 - val_loss: 1.0051 - val_accuracy: 0.6020\n",
    "Epoch 6/10\n",
    "2482/2482 [==============================] - 111s 45ms/step - loss: 0.6993 - accuracy: 0.7023 - val_loss: 1.0211 - val_accuracy: 0.5981\n",
    "Epoch 7/10\n",
    "2482/2482 [==============================] - 110s 44ms/step - loss: 0.6487 - accuracy: 0.7240 - val_loss: 1.0579 - val_accuracy: 0.5919\n",
    "Epoch 8/10\n",
    "2482/2482 [==============================] - 130s 52ms/step - loss: 0.6005 - accuracy: 0.7453 - val_loss: 1.1243 - val_accuracy: 0.5855\n",
    "Epoch 9/10\n",
    "2482/2482 [==============================] - 143s 57ms/step - loss: 0.5544 - accuracy: 0.7647 - val_loss: 1.1872 - val_accuracy: 0.5789\n",
    "Epoch 10/10\n",
    "2482/2482 [==============================] - 132s 53ms/step - loss: 0.5115 - accuracy: 0.7823 - val_loss: 1.3067 - val_accuracy: 0.5838\n",
    "1241/1241 [==============================] - 13s 11ms/step - loss: 1.3269 - accuracy: 0.5763\n",
    "Loss:  1.3268840312957764\n",
    "Accuracy:  0.5762741565704346\n",
    "```\n",
    "## configs:\n",
    " - LSTM = 64\n",
    " - vocab_size = 2000\n",
    " - Embeddind = Zerado\n",
    " - tknzr_WordPunctTokenizer (NLTK) + Tokenizer padrão do TextVectorization \n",
    " - Dropout = 0\n",
    " - Tammax:25\n",
    " \n",
    "```\n",
    "Epoch 1/10\n",
    "2482/2482 [==============================] - 83s 34ms/step - loss: 1.0459 - accuracy: 0.5484 - val_loss: 0.9820 - val_accuracy: 0.5829\n",
    "Epoch 2/10\n",
    "2482/2482 [==============================] - 85s 34ms/step - loss: 0.9326 - accuracy: 0.5994 - val_loss: 0.9315 - val_accuracy: 0.6042\n",
    "Epoch 3/10\n",
    "2482/2482 [==============================] - 94s 38ms/step - loss: 0.8885 - accuracy: 0.6159 - val_loss: 0.9248 - val_accuracy: 0.5943\n",
    "Epoch 4/10\n",
    "2482/2482 [==============================] - 105s 42ms/step - loss: 0.8573 - accuracy: 0.6284 - val_loss: 0.9050 - val_accuracy: 0.6096\n",
    "Epoch 5/10\n",
    "2482/2482 [==============================] - 86s 35ms/step - loss: 0.8309 - accuracy: 0.6386 - val_loss: 0.9211 - val_accuracy: 0.6080\n",
    "Epoch 6/10\n",
    "2482/2482 [==============================] - 86s 35ms/step - loss: 0.8065 - accuracy: 0.6493 - val_loss: 0.9200 - val_accuracy: 0.6098\n",
    "Epoch 7/10\n",
    "2482/2482 [==============================] - 86s 35ms/step - loss: 0.7834 - accuracy: 0.6604 - val_loss: 0.9367 - val_accuracy: 0.6051\n",
    "Epoch 8/10\n",
    "2482/2482 [==============================] - 87s 35ms/step - loss: 0.7579 - accuracy: 0.6720 - val_loss: 0.9501 - val_accuracy: 0.6042\n",
    "Epoch 9/10\n",
    "2482/2482 [==============================] - 88s 35ms/step - loss: 0.7347 - accuracy: 0.6846 - val_loss: 0.9652 - val_accuracy: 0.6054\n",
    "Epoch 10/10\n",
    "2482/2482 [==============================] - 90s 36ms/step - loss: 0.7092 - accuracy: 0.6944 - val_loss: 1.0024 - val_accuracy: 0.6018\n",
    "1241/1241 [==============================] - 13s 10ms/step - loss: 1.0161 - accuracy: 0.5920\n",
    "Loss:  1.0161194801330566\n",
    "Accuracy:  0.5919873118400574\n",
    "```\n",
    "\n",
    "## configs:\n",
    " - LSTM = 64\n",
    " - vocab_size = 2000\n",
    " - Embeddind = Zerado\n",
    " - tknzr_WordPunctTokenizer (NLTK) + Tokenizer padrão do TextVectorization \n",
    " - Dropout = 0.5\n",
    " - Tammax:25\n",
    "\n",
    "```\n",
    "Epoch 1/10\n",
    "2482/2482 [==============================] - 43s 17ms/step - loss: 1.0446 - accuracy: 0.5565 - val_loss: 0.9762 - val_accuracy: 0.5910\n",
    "Epoch 2/10\n",
    "2482/2482 [==============================] - 47s 19ms/step - loss: 0.9586 - accuracy: 0.5923 - val_loss: 0.9584 - val_accuracy: 0.5853\n",
    "Epoch 3/10\n",
    "2482/2482 [==============================] - 44s 18ms/step - loss: 0.9314 - accuracy: 0.6004 - val_loss: 0.9345 - val_accuracy: 0.6022\n",
    "Epoch 4/10\n",
    "2482/2482 [==============================] - 44s 18ms/step - loss: 0.9061 - accuracy: 0.6085 - val_loss: 0.9289 - val_accuracy: 0.6000\n",
    "Epoch 5/10\n",
    "2482/2482 [==============================] - 45s 18ms/step - loss: 0.8868 - accuracy: 0.6159 - val_loss: 0.9281 - val_accuracy: 0.6047\n",
    "Epoch 6/10\n",
    "2482/2482 [==============================] - 46s 18ms/step - loss: 0.8701 - accuracy: 0.6231 - val_loss: 0.9364 - val_accuracy: 0.5907\n",
    "Epoch 7/10\n",
    "2482/2482 [==============================] - 49s 20ms/step - loss: 0.8545 - accuracy: 0.6294 - val_loss: 0.9483 - val_accuracy: 0.6015\n",
    "Epoch 8/10\n",
    "2482/2482 [==============================] - 41s 17ms/step - loss: 0.8393 - accuracy: 0.6362 - val_loss: 0.9482 - val_accuracy: 0.6005\n",
    "Epoch 9/10\n",
    "2482/2482 [==============================] - 45s 18ms/step - loss: 0.8253 - accuracy: 0.6402 - val_loss: 0.9591 - val_accuracy: 0.5960\n",
    "Epoch 10/10\n",
    "2482/2482 [==============================] - 46s 18ms/step - loss: 0.8108 - accuracy: 0.6465 - val_loss: 0.9692 - val_accuracy: 0.5933\n",
    "1241/1241 [==============================] - 8s 6ms/step - loss: 0.9718 - accuracy: 0.5920\n",
    "Loss:  0.9717921018600464\n",
    "Accuracy:  0.5919873118400574\n",
    "```\n",
    "\n",
    "\n",
    "## configs:\n",
    " - LSTM = 64\n",
    " - vocab_size = 2000\n",
    " - Embeddind = Zerado\n",
    " - tknzr_WordPunctTokenizer (NLTK) + Tokenizer padrão do TextVectorization \n",
    " - Dropout = 0.5\n",
    " - Tammax:50 ( 25 primeiros + 25 ultimos)\n",
    "\n",
    "\n",
    "```\n",
    "Epoch 1/10\n",
    "2482/2482 [==============================] - 45s 18ms/step - loss: 1.0365 - accuracy: 0.5614 - val_loss: 0.9619 - val_accuracy: 0.5950\n",
    "Epoch 2/10\n",
    "2482/2482 [==============================] - 50s 20ms/step - loss: 0.9580 - accuracy: 0.5932 - val_loss: 0.9520 - val_accuracy: 0.5910\n",
    "Epoch 3/10\n",
    "2482/2482 [==============================] - 45s 18ms/step - loss: 0.9325 - accuracy: 0.6020 - val_loss: 0.9407 - val_accuracy: 0.5984\n",
    "Epoch 4/10\n",
    "2482/2482 [==============================] - 48s 19ms/step - loss: 0.9092 - accuracy: 0.6091 - val_loss: 0.9357 - val_accuracy: 0.6039\n",
    "Epoch 5/10\n",
    "2482/2482 [==============================] - 44s 18ms/step - loss: 0.8906 - accuracy: 0.6157 - val_loss: 0.9351 - val_accuracy: 0.5997\n",
    "Epoch 6/10\n",
    "2482/2482 [==============================] - 48s 19ms/step - loss: 0.8749 - accuracy: 0.6238 - val_loss: 0.9310 - val_accuracy: 0.6036\n",
    "Epoch 7/10\n",
    "2482/2482 [==============================] - 46s 18ms/step - loss: 0.8602 - accuracy: 0.6275 - val_loss: 0.9314 - val_accuracy: 0.6038\n",
    "Epoch 8/10\n",
    "2482/2482 [==============================] - 46s 19ms/step - loss: 0.8447 - accuracy: 0.6341 - val_loss: 0.9387 - val_accuracy: 0.6005\n",
    "Epoch 9/10\n",
    "2482/2482 [==============================] - 50s 20ms/step - loss: 0.8321 - accuracy: 0.6396 - val_loss: 0.9681 - val_accuracy: 0.5988\n",
    "Epoch 10/10\n",
    "2482/2482 [==============================] - 49s 20ms/step - loss: 0.8171 - accuracy: 0.6460 - val_loss: 0.9611 - val_accuracy: 0.5992\n",
    "1241/1241 [==============================] - 8s 6ms/step - loss: 0.9662 - accuracy: 0.5934\n",
    "Loss:  0.9661514759063721\n",
    "Accuracy:  0.5933974385261536\n",
    "```"
   ]
  },
  {
   "cell_type": "code",
   "execution_count": 57,
   "metadata": {},
   "outputs": [],
   "source": [
    "import matplotlib.pyplot as plt\n",
    "\n",
    "\n",
    "acc = history.history['accuracy']\n",
    "val_acc = history.history['val_accuracy']\n",
    "loss = history.history['loss']\n",
    "val_loss = history.history['val_loss']\n",
    "\n",
    "epochs = range(1, len(acc) + 1)\n",
    "\n",
    "# y_pred[0]\n",
    "# y_test[0]"
   ]
  },
  {
   "cell_type": "code",
   "execution_count": 72,
   "metadata": {},
   "outputs": [
    {
     "name": "stdout",
     "output_type": "stream",
     "text": [
      "text_vectorization_3\n",
      "embedding_12\n",
      "lstm_10\n",
      "dropout_10\n",
      "dense_10\n",
      "\n"
     ]
    }
   ],
   "source": [
    "print(''.join([ l.name + '\\n' for l in  model.layers ]))"
   ]
  },
  {
   "cell_type": "code",
   "execution_count": 36,
   "metadata": {},
   "outputs": [
    {
     "data": {
      "image/png": "[encoded data removed]",
      "text/plain": [
       "<Figure size 432x288 with 1 Axes>"
      ]
     },
     "metadata": {
      "needs_background": "light"
     },
     "output_type": "display_data"
    }
   ],
   "source": [
    "# \n",
    "plt.plot(epochs, acc, 'r', label='Training acc')\n",
    "plt.plot(epochs, val_acc, 'b', label='Validation acc')\n",
    "plt.title('Training and validation Accuracy')\n",
    "plt.xlabel('Epochs')\n",
    "plt.ylabel('Accuracy')\n",
    "plt.legend()\n",
    "\n",
    "\n",
    "plt.savefig('LSTM:64_Embeddind:Zerado_Vocab:2000_tknzr:WordPunctTokenizer_Accuracy_TamMax:50PU_Accuracy.jpg')\n",
    "plt.show()"
   ]
  },
  {
   "cell_type": "code",
   "execution_count": 59,
   "metadata": {},
   "outputs": [
    {
     "data": {
      "image/png": "[encoded data removed]",
      "text/plain": [
       "<Figure size 432x288 with 1 Axes>"
      ]
     },
     "metadata": {
      "needs_background": "light"
     },
     "output_type": "display_data"
    }
   ],
   "source": [
    "text  = \"\\n\\nEssa é uma linha\\n\"\n",
    "text += \"Outra linha\\n\"\n",
    "text += \"e mais uma\\n\"\n",
    "\n",
    "plt.plot(epochs, loss, 'r', label='Training loss')\n",
    "plt.plot(epochs, val_loss, 'b', label='Validation loss')\n",
    "plt.title('Training and validation loss')\n",
    "plt.xlabel('Epochs' + text)\n",
    "plt.ylabel('Loss')\n",
    "plt.legend()\n",
    "# plt.xlabel('this is a xlabel\\n(with newlines!)')\n",
    "\n",
    "# plt.savefig('LSTM:64_Embeddind:Zerado_Vocab:2000_tknzr:WordPunctTokenizer_Accuracy_TamMax:50PU_Loss.jpg')\n",
    "# plt.savefig('LSTM:64_Embeddind:Zerado_Vocab:2000_tknzr:WordPunctTokenizer_Accuracy_TamMax:50PU_Loss.jpg')\n",
    "plt.show()"
   ]
  },
  {
   "cell_type": "code",
   "execution_count": 107,
   "metadata": {},
   "outputs": [
    {
     "data": {
      "image/png": "[encoded data removed]",
      "text/plain": [
       "<Figure size 432x288 with 1 Axes>"
      ]
     },
     "metadata": {
      "needs_background": "light"
     },
     "output_type": "display_data"
    },
    {
     "name": "stdout",
     "output_type": "stream",
     "text": [
      "_text_vectorization_3_embedding_12_lstm_10_dropout_10_dense_10_\n"
     ]
    }
   ],
   "source": [
    "# from matplotlib import rcParams\n",
    "# rcParams.update({'figure.autolayout': False})\n",
    "\n",
    "\n",
    "def renderfig( file, line1, line2, label1, label2, title, xlabel, ylabel, text ):\n",
    "    epochs = range(1, len(line1) + 1)\n",
    "    plt.plot(epochs, line1, 'r', label=label1)\n",
    "    plt.plot(epochs, line2, 'b', label=label2)\n",
    "    plt.title(title)\n",
    "    plt.xlabel(xlabel )\n",
    "    plt.ylabel(ylabel)\n",
    "    plt.legend()\n",
    "#     plt.figtext(0.5, -0.5, \"1\\n2\\n3\\n4\\n5\\n6 text\", ha=\"center\", fontsize=18, bbox={\"facecolor\":\"orange\", \"alpha\":0.5, \"pad\":5})\n",
    "    plt.figtext(0.2, -0.34, \"1\\n2\\n3\\n4\\n5\\n6 text\",  fontsize=14)\n",
    "#     plt.tight_layout()\n",
    "#         plt.savefig(file, bbox_inches = \"tight\")\n",
    "#     plt.close('all')\n",
    "    plt.show()\n",
    "#     plt.savefig('xxx_Accuracy.jpg')\n",
    "\n",
    "# text  = \"\\n\\nEssa é uma linha\\n\"\n",
    "# text += \"Outra linha\\n\"\n",
    "# text += \"e mais uma\\n\"\n",
    "text = '\\n'+''.join([ l.name + '\\n' for l in  model.layers ])\n",
    "\n",
    "# renderfig( 'xxx_Accuracy.jpg', acc , val_acc , \"Treino\", \"Validação\", \"Acurácia do Treino e Validação\", \"Épocas\", \"Acurácia\", text )\n",
    "renderfig( 'xxx_Accuracy.jpg', loss , val_loss , \"Treino\", \"Validação\", \"Acurácia do Treino e Validação\", \"Épocas\", \"Acurácia\", text )\n",
    "\n",
    "print(text.replace(\"\\n\",\"_\"))\n",
    "# plt.figtext(0.5, 0.01, \"one text and next text\", ha=\"center\", fontsize=18, bbox={\"facecolor\":\"orange\", \"alpha\":0.5, \"pad\":5})"
   ]
  }
 ],
 "metadata": {
  "kernelspec": {
   "display_name": "Python 3",
   "language": "python",
   "name": "python3"
  },
  "language_info": {
   "codemirror_mode": {
    "name": "ipython",
    "version": 3
   },
   "file_extension": ".py",
   "mimetype": "text/x-python",
   "name": "python",
   "nbconvert_exporter": "python",
   "pygments_lexer": "ipython3",
   "version": "3.8.2"
  }
 },
 "nbformat": 4,
 "nbformat_minor": 4
}
