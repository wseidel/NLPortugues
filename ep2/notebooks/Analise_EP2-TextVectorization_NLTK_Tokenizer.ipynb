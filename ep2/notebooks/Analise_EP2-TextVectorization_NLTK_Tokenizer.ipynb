{
 "cells": [
  {
   "cell_type": "code",
   "execution_count": 1,
   "metadata": {},
   "outputs": [
    {
     "data": {
      "text/plain": [
       "'2.2.0-rc3'"
      ]
     },
     "execution_count": 1,
     "metadata": {},
     "output_type": "execute_result"
    }
   ],
   "source": [
    "# https://keras.io/examples/nlp/text_classification_with_transformer/\n",
    "import tensorflow as tf\n",
    "from tensorflow import keras\n",
    "from tensorflow.keras import layers\n",
    "import pandas as pd\n",
    "import numpy as np\n",
    "\n",
    "\n",
    "\n",
    "from sklearn.model_selection import train_test_split\n",
    "from gensim.models import KeyedVectors\n",
    "tf.__version__"
   ]
  },
  {
   "cell_type": "code",
   "execution_count": 85,
   "metadata": {},
   "outputs": [
    {
     "name": "stdout",
     "output_type": "stream",
     "text": [
      "tknzr_WordPunctTokenizer ...: ['estou', '.', 'torcendo', ':)', 'poooooor', ':', 'todos', 'nós', ':(']\n",
      "tknzr_NLTKWordTokenizer ....: ['estou.torcendo', ':', ')', 'poooooor', ':', 'todos', 'nós', ':', '(']\n",
      "tknzr_TweetTokenizer .......: ['estou.torcendo', ':)', 'pooor', ':', 'todos', 'nós', ':(']\n"
     ]
    },
    {
     "data": {
      "text/plain": [
       "'estou . torcendo :) poooooor : todos nós :('"
      ]
     },
     "execution_count": 85,
     "metadata": {},
     "output_type": "execute_result"
    }
   ],
   "source": [
    "from nltk.tokenize import TweetTokenizer\n",
    "tknzr_TweetTokenizer = TweetTokenizer(strip_handles=False, reduce_len=True)\n",
    "\n",
    "from nltk.tokenize.destructive import NLTKWordTokenizer\n",
    "tknzr_NLTKWordTokenizer = NLTKWordTokenizer()\n",
    "\n",
    "# from nltk.tokenize import MWETokenizer\n",
    "# tknzr = MWETokenizer()\n",
    "from nltk.tokenize import WordPunctTokenizer\n",
    "tknzr_WordPunctTokenizer = WordPunctTokenizer()\n",
    "\n",
    "\n",
    "\n",
    "text = \"Estou.torcendo :) poooooor: todos nós :( \"\n",
    "print( \"tknzr_WordPunctTokenizer ...:\", tknzr_WordPunctTokenizer.tokenize(text.lower()) )\n",
    "print( \"tknzr_NLTKWordTokenizer ....:\", tknzr_NLTKWordTokenizer.tokenize(text.lower()) )\n",
    "print( \"tknzr_TweetTokenizer .......:\", tknzr_TweetTokenizer.tokenize(text.lower()) )\n",
    "\n",
    "' '.join(tknzr_WordPunctTokenizer.tokenize(text.lower()))\n"
   ]
  },
  {
   "cell_type": "code",
   "execution_count": 3,
   "metadata": {},
   "outputs": [],
   "source": [
    "# Definindo as variáveis do projeto\n",
    "vocab_size = 200000  # Considerar 200k palavras\n",
    "maxlen = 200  # Considerar apenas as 100 primeiras palavras do texto da review\n",
    "\n",
    "embed_dim = 50 # tamanho do Embedding de cada token ( também do word2vec da NILC)\n",
    "num_heads = 2  # N. de cabeças de atenção\n",
    "ff_dim = 32   # tamanho da camada oculta nas redes feed forward dentro do transformer\n",
    "\n",
    "# Path para o arquivo de dados da b2w\n",
    "# B2W_DATAFILE = \"/home/wseidel/workspaces/usp/b2w-reviews01/B2W-Reviews01.csv\"\n",
    "B2W_DATAFILE = \"/home/wesley/workspaces/usp/data/b2w/B2W-Reviews01.csv\"\n",
    "# B2W_DATAFILE = \"/home/wseidel/workspaces/usp/b2w-reviews01/B2W-10k.csv\"\n",
    "\n",
    "\n",
    "# Path para o arquivo de dados de embeddings do NILC\n",
    "# NILC_W2V_DATAFILE = \"/home/wseidel/workspaces/usp/NILC/word2vec_200k.txt\"\n",
    "NILC_W2V_DATAFILE = \"/home/wesley/workspaces/usp/data/nilc/word2vec_200k.txt\"\n",
    "\n",
    "# Quantidade de epocas para o treino\n",
    "QNT_EPOCAS_A_TREINAR = 2"
   ]
  },
  {
   "cell_type": "code",
   "execution_count": 4,
   "metadata": {},
   "outputs": [],
   "source": [
    "# Carregar dados a serem analisados\n",
    "b2wCorpus = pd.read_csv(B2W_DATAFILE, sep=';', usecols=[\"review_text\", \"overall_rating\"])\n",
    "\n",
    "# Carregar o Word2Vec do NILC\n",
    "# model_w2v = KeyedVectors.load_word2vec_format(NILC_W2V_DATAFILE)"
   ]
  },
  {
   "cell_type": "code",
   "execution_count": 86,
   "metadata": {},
   "outputs": [
    {
     "name": "stdout",
     "output_type": "stream",
     "text": [
      "train..: 79423 0.6\n",
      "test...: 39712 0.3\n",
      "val....: 13238 0.1\n",
      "----------------------------------------\n",
      "x_train..: 79423 Last value(Y,X)..: [ 2 ]  pena que não tem desconto pena que não tem desconto pena que não tem desconto pena que não tem desconto pena que não tem desconto pena que não tem desconto pena que não tem desconto pena que não tem desconto pena que não tem desconto pena que não tem desconto pena que não tem desconto pena que não tem desconto pena que não tem desconto pena que não tem desconto pena que não tem desconto pena que não tem desconto pena que não tem desconto pena que não tem desconto pena que não tem desconto pena que não tem desconto pena que não tem desconto pena que não tem desconto pena que não tem desconto pena que não tem desconto pena que não tem desconto pena que não tem desconto pena que não tem desconto pena que não tem desconto pena que não tem desconto pena que não tem desconto pena que não tem desconto pena que não tem desconto pena que não tem desconto pena que não tem desconto pena que não tem desconto pena que não tem desconto pena que não tem desconto pena que não tem desconto pena que não tem desconto pena que não tem desconto pena que não tem desconto pena que não tem desconto pena que não tem desconto pena que não tem desconto pena que não tem desconto pena que não tem desconto pena que não tem desconto pena que não tem desconto pena que não tem desconto pena que não tem desconto pena que não tem desconto pena que não tem desconto pena que não tem desconto pena que não tem desconto pena que não tem desconto pena que não tem desconto pena que não tem desconto pena que não tem desconto pena que não tem desconto pena que não tem desconto pena que não tem desconto pena que não tem desconto pena que não tem desconto pena que não tem desconto pena que não tem desconto pena que não tem desconto pena que não tem desconto pena que não tem desconto pena que não tem desconto pena que não tem desconto pena que não tem desconto pena que não tem desconto pena que não tem desconto pena que não tem desconto pena que não tem desconto pena que não tem desconto pena que não tem desconto pena que não tem desconto pena que não tem desconto pena que não tem desconto pena que não tem desconto pena que não tem desconto pena que não tem desconto pena que não tem desconto pena que não tem desconto pena que não tem desconto pena que não tem desconto pena que não tem desconto pena que não tem desconto pena que não tem desconto pena que não tem desconto pena que não tem desconto pena que não tem desconto pena que não tem desconto pena que não tem desconto pena que não tem desconto pena que não tem desconto pena que não tem desconto pena que não tem desconto pena que não tem desconto pena que não tem desconto pena que não tem desconto pena que não tem desconto pena que não tem desconto pena que não tem desconto pena que não tem desconto pena que não tem desconto pena que não tem desconto pena que não tem desconto pena que não tem desconto pena que não tem desconto pena que não tem desconto pena que não tem desconto pena que não tem desconto pena que não tem desconto pena que não tem desconto pena que não tem desconto pena que não tem desconto pena que não tem desconto pena que não tem desconto pena que não tem desconto pena que não tem desconto pena que não tem desconto pena que não tem desconto pena que não tem desconto pena que não tem desconto pena que não tem desconto pena que não tem desconto pena que não tem desconto pena que não tem desconto pena que não tem desconto pena que não tem desconto pena que não tem desconto pena que não tem desconto pena que não tem desconto pena que não tem desconto pena que não tem desconto pena que não tem desconto pena que não tem desconto pena que não tem desconto pena que não tem desconto pena que não tem desconto pena que não tem desconto pena que não tem desconto pena que não tem desconto pena que não tem desconto pena que não tem desconto pena que não tem desconto pena que não tem desconto pena que não tem desconto pena que não tem desconto pena que não tem desconto pena que não tem desconto pena que não tem desconto pena que não tem desconto pena que não tem desconto pena que não tem desconto pena que não tem desconto pena que não tem desconto\n",
      "x_test...: 39712 Last value(Y,X)..: [ 2 ]  compraria novamente muito bom gotei tambem da entrega muito rapida\n",
      "x_val....: 13238 Last value(Y,X)..: [ 4 ]  além de dar a minha opinião eu ainda tenho que fazer um texto grande puxa vida hein não pode ser um texto curto então a gente rola aqui , a pipoqueiro é muito boa bonita barata .\n"
     ]
    }
   ],
   "source": [
    "def train_test_val_split(dataset, train_size=0.6, test_size=0.3, colname_stratify='overall_rating',random_seed=29):\n",
    "    val_size = 1 - round((train_size + test_size),1)\n",
    "    split_train_test_size = test_size + val_size\n",
    "\n",
    "    train, val = train_test_split(dataset, \n",
    "                                  test_size=split_train_test_size, \n",
    "                                  stratify=dataset[colname_stratify], \n",
    "                                  random_state=random_seed)\n",
    "\n",
    "    test, val = train_test_split(val, \n",
    "                                  test_size=val_size/split_train_test_size, \n",
    "                                  stratify=val[colname_stratify], \n",
    "                                  random_state=random_seed)\n",
    "    return train.reset_index(drop=True), test, val\n",
    "\n",
    "def sort_by_size(df, col_to_sort):\n",
    "    df['sentence_length'] = df[col_to_sort].apply(lambda x: len(x.split()))\n",
    "    df.sort_values(by=['sentence_length'], inplace=True, ignore_index=True)\n",
    "    return df\n",
    "\n",
    "def getXY(serieX, serieY, padding_maxlen=50):\n",
    "#     x_train = keras.preprocessing.sequence.pad_sequences(train['review_text_clean'], maxlen=padding_maxlen, padding='post')\n",
    "    x_ = serieX.values\n",
    "    y_ = serieY.values\n",
    "    return x_, y_\n",
    "\n",
    "\n",
    "\n",
    "# train, test, val = train_test_val_split(df_to_work, train_size=0.75, test_size=0.15)\n",
    "df_to_work = b2wCorpus\n",
    "\n",
    "TAMMAX_SENTENCE=50\n",
    "# MAX_SEQUENCE_LENGTH = 50\n",
    "VOCAB_SIZE = 20000\n",
    "\n",
    "values_to_retain=[1,2,3,4,5]\n",
    "df_to_work = df_to_work[df_to_work['overall_rating'].isin(values_to_retain)]\n",
    "# df_to_work\n",
    "df_to_work['overall_rating'] = df_to_work.overall_rating.apply(lambda x: x-1)\n",
    "\n",
    "# # Aplicando o sentence_to_nilc_index_token\n",
    "# df_to_work['review_text_clean'] = df_to_work.review_text.apply(lambda x: sentence_to_nilc_index_token(x))\n",
    "\n",
    "df_to_work['review_text'] = df_to_work.review_text.apply(lambda x: ' '.join(tknzr_WordPunctTokenizer.tokenize(x.lower())))\n",
    "\n",
    "train, test, val = train_test_val_split(df_to_work)\n",
    "\n",
    "sort_by_size(train, 'review_text')\n",
    "\n",
    "\n",
    "x_train, y_train = getXY(train['review_text'], train['overall_rating'])\n",
    "x_test,  y_test  = getXY(test['review_text'], test['overall_rating'])\n",
    "x_val,   y_val   = getXY(val['review_text'], val['overall_rating'])\n",
    "\n",
    "\n",
    "print(\"train..:\", len(train), round(len(train) / len(df_to_work),3) ) \n",
    "print(\"test...:\", len(test), round(len(test) / len(df_to_work),3) )\n",
    "print(\"val....:\", len(val), round(len(val) / len(df_to_work),3) )\n",
    "print(\"--\" * 20) \n",
    "print(\"x_train..:\", len(x_train), \"Last value(Y,X)..: [\", y_train[-1], \"] \", x_train[-1] )\n",
    "print(\"x_test...:\", len(x_test),  \"Last value(Y,X)..: [\", y_test[-1], \"] \", x_test[-1] )\n",
    "print(\"x_val....:\", len(x_val),  \"Last value(Y,X)..: [\", y_val[-1], \"] \", x_val[-1] )"
   ]
  },
  {
   "cell_type": "code",
   "execution_count": 87,
   "metadata": {},
   "outputs": [],
   "source": [
    "VOCAB_SIZE=2000\n",
    "\n",
    "vectorize_layer = tf.keras.layers.experimental.preprocessing.TextVectorization(\n",
    "    max_tokens= VOCAB_SIZE,#MAX_TOKENS,\n",
    "    standardize= 'lower_and_strip_punctuation', # None\n",
    "#     standardize=\n",
    "    output_mode='int', # \"int\", \"binary\", \"count\" or \"tf-idf\",\n",
    "    output_sequence_length= 50#MAX_SENTENCE_LENGTH,  # Only valid in INT mode.\n",
    ")\n",
    "\n",
    "vectorize_layer.adapt(x_train)"
   ]
  },
  {
   "cell_type": "code",
   "execution_count": 88,
   "metadata": {},
   "outputs": [
    {
     "name": "stdout",
     "output_type": "stream",
     "text": [
      "Model: \"sequential_17\"\n",
      "_________________________________________________________________\n",
      "Layer (type)                 Output Shape              Param #   \n",
      "=================================================================\n",
      "text_vectorization_9 (TextVe (None, 50)                0         \n",
      "_________________________________________________________________\n",
      "embedding_9 (Embedding)      (None, 50, 50)            50050     \n",
      "_________________________________________________________________\n",
      "lstm_9 (LSTM)                (None, 32)                10624     \n",
      "_________________________________________________________________\n",
      "dropout_9 (Dropout)          (None, 32)                0         \n",
      "_________________________________________________________________\n",
      "dense_9 (Dense)              (None, 5)                 165       \n",
      "=================================================================\n",
      "Total params: 60,839\n",
      "Trainable params: 60,839\n",
      "Non-trainable params: 0\n",
      "_________________________________________________________________\n"
     ]
    }
   ],
   "source": [
    "from tensorflow.keras import layers\n",
    "from tensorflow import keras\n",
    "\n",
    "def get_model(vocab_size=1000, dropout_prob=0.0):\n",
    "#     embedding_layer = model_w2v.get_keras_embedding()\n",
    "#     embedding_layer.trainable = True\n",
    "\n",
    "    model = keras.Sequential()\n",
    "#     model.add(layers.Input(shape=(TAMMAX_SENTENCE, )))\n",
    "    model.add(layers.Input(shape=(1,), dtype=tf.string))\n",
    "    model.add(vectorize_layer)\n",
    "    model.add(layers.Embedding(vocab_size+1, 50, input_length=TAMMAX_SENTENCE))\n",
    "#     model.add(embedding_layer)\n",
    "    model.add(layers.LSTM(32))\n",
    "    model.add(layers.Dropout(dropout_prob))\n",
    "    model.add(keras.layers.Dense(5, activation='softmax'))\n",
    "    \n",
    "    return model\n",
    "\n",
    "model = get_model( vocab_size=VOCAB_SIZE, dropout_prob=0.0)\n",
    "\n",
    "model.compile(\"adam\", \"sparse_categorical_crossentropy\", metrics=[\"accuracy\"])\n",
    "\n",
    "model.summary()"
   ]
  },
  {
   "cell_type": "code",
   "execution_count": 91,
   "metadata": {},
   "outputs": [],
   "source": [
    "# Exemplo a implementar\n",
    "# name = 'm1_lstm_drop0.0'\n",
    "# model = get_lstm_model(dropout_prob=0.5)\n",
    "# es = EarlyStopping(monitor='val_loss', mode='min', verbose=1, patience=10)\n",
    "# mc = ModelCheckpoint('../model_data/' + name + 'best_model.h5', monitor='val_loss', mode='min', save_best_only=True)\n",
    "# history = model.fit(x_train, y_train, batch_size=64, epochs=100, validation_data=(x_val, y_val), callbacks=[es, mc])\n",
    "# save_history(history, name)\n",
    "# model.evaluate(x_test, y_test)\n",
    "# display_loss_plot(history, name)\n",
    "# display_acc_plot(history, name)"
   ]
  },
  {
   "cell_type": "code",
   "execution_count": 89,
   "metadata": {},
   "outputs": [
    {
     "name": "stdout",
     "output_type": "stream",
     "text": [
      "Epoch 1/10\n",
      "2482/2482 [==============================] - 56s 23ms/step - loss: 1.0530 - accuracy: 0.5473 - val_loss: 0.9864 - val_accuracy: 0.5678\n",
      "Epoch 2/10\n",
      "2482/2482 [==============================] - 54s 22ms/step - loss: 0.9563 - accuracy: 0.5878 - val_loss: 0.9343 - val_accuracy: 0.5979\n",
      "Epoch 3/10\n",
      "2482/2482 [==============================] - 53s 21ms/step - loss: 0.9300 - accuracy: 0.5993 - val_loss: 0.9297 - val_accuracy: 0.6015\n",
      "Epoch 4/10\n",
      "2482/2482 [==============================] - 53s 21ms/step - loss: 0.9099 - accuracy: 0.6064 - val_loss: 0.9220 - val_accuracy: 0.6045\n",
      "Epoch 5/10\n",
      "2482/2482 [==============================] - 53s 22ms/step - loss: 0.8970 - accuracy: 0.6103 - val_loss: 0.9292 - val_accuracy: 0.6044\n",
      "Epoch 6/10\n",
      "2482/2482 [==============================] - 53s 21ms/step - loss: 0.8835 - accuracy: 0.6147 - val_loss: 0.9215 - val_accuracy: 0.6052\n",
      "Epoch 7/10\n",
      "2482/2482 [==============================] - 53s 21ms/step - loss: 0.8728 - accuracy: 0.6192 - val_loss: 0.9154 - val_accuracy: 0.6067\n",
      "Epoch 8/10\n",
      "2482/2482 [==============================] - 54s 22ms/step - loss: 0.8627 - accuracy: 0.6230 - val_loss: 0.9170 - val_accuracy: 0.6066\n",
      "Epoch 9/10\n",
      "2482/2482 [==============================] - 54s 22ms/step - loss: 0.8527 - accuracy: 0.6287 - val_loss: 0.9211 - val_accuracy: 0.6039\n",
      "Epoch 10/10\n",
      "2482/2482 [==============================] - 55s 22ms/step - loss: 0.8437 - accuracy: 0.6312 - val_loss: 0.9213 - val_accuracy: 0.6039\n",
      "1241/1241 [==============================] - 8s 7ms/step - loss: 0.9257 - accuracy: 0.6052\n",
      "Loss:  0.9256511330604553\n",
      "Accuracy:  0.6052075028419495\n"
     ]
    }
   ],
   "source": [
    "# Ver lista06\n",
    "\n",
    "# Ler aqui pro batch generator:\n",
    "#     https://datascience.stackexchange.com/questions/48796/how-to-feed-lstm-with-different-input-array-sizes\n",
    "\n",
    "# Seu código aqui\n",
    "\n",
    "QNT_EPOCAS_TREINO = 10\n",
    "\n",
    "history = model.fit(\n",
    "    x_train, y_train, \n",
    "    batch_size=32, \n",
    "    epochs=QNT_EPOCAS_TREINO, \n",
    "    validation_data=(x_val, y_val)\n",
    ")\n",
    "\n",
    "loss, accuracy = model.evaluate(x=x_test,y=y_test)\n",
    "\n",
    "print(\"Loss: \", loss)\n",
    "print(\"Accuracy: \", accuracy)"
   ]
  },
  {
   "cell_type": "markdown",
   "metadata": {},
   "source": [
    "# Comparações \n",
    "\n",
    "## configs:\n",
    " - LSTM = 32\n",
    " - vocab_size = 1000\n",
    " - Embeddind = Zerado\n",
    " - Tokenizer padrão do TextVectorization\n",
    "    \n",
    "```\n",
    "Epoch 1/3\n",
    "2482/2482 [==============================] - 53s 21ms/step - loss: 1.0628 - accuracy: 0.5413 - val_loss: 0.9851 - val_accuracy: 0.5830\n",
    "Epoch 2/3\n",
    "2482/2482 [==============================] - 54s 22ms/step - loss: 0.9624 - accuracy: 0.5881 - val_loss: 0.9556 - val_accuracy: 0.5934\n",
    "Epoch 3/3\n",
    "2482/2482 [==============================] - 53s 21ms/step - loss: 0.9346 - accuracy: 0.5976 - val_loss: 0.9435 - val_accuracy: 0.5968\n",
    "1241/1241 [==============================] - 8s 7ms/step - loss: 0.9454 - accuracy: 0.5933\n",
    "Loss:  0.9453516602516174\n",
    "Accuracy:  0.5933470726013184\n",
    "```\n",
    "\n",
    "## configs:\n",
    " - LSTM = 32\n",
    " - vocab_size = 1000\n",
    " - Embeddind = Zerado\n",
    " - tknzr_WordPunctTokenizer (NLTK) + Tokenizer padrão do TextVectorization \n",
    "    \n",
    "```\n",
    "Epoch 1/10\n",
    "2482/2482 [==============================] - 56s 23ms/step - loss: 1.0530 - accuracy: 0.5473 - val_loss: 0.9864 - val_accuracy: 0.5678\n",
    "Epoch 2/10\n",
    "2482/2482 [==============================] - 54s 22ms/step - loss: 0.9563 - accuracy: 0.5878 - val_loss: 0.9343 - val_accuracy: 0.5979\n",
    "Epoch 3/10\n",
    "2482/2482 [==============================] - 53s 21ms/step - loss: 0.9300 - accuracy: 0.5993 - val_loss: 0.9297 - val_accuracy: 0.6015\n",
    "Epoch 4/10\n",
    "2482/2482 [==============================] - 53s 21ms/step - loss: 0.9099 - accuracy: 0.6064 - val_loss: 0.9220 - val_accuracy: 0.6045\n",
    "Epoch 5/10\n",
    "2482/2482 [==============================] - 53s 22ms/step - loss: 0.8970 - accuracy: 0.6103 - val_loss: 0.9292 - val_accuracy: 0.6044\n",
    "Epoch 6/10\n",
    "2482/2482 [==============================] - 53s 21ms/step - loss: 0.8835 - accuracy: 0.6147 - val_loss: 0.9215 - val_accuracy: 0.6052\n",
    "Epoch 7/10\n",
    "2482/2482 [==============================] - 53s 21ms/step - loss: 0.8728 - accuracy: 0.6192 - val_loss: 0.9154 - val_accuracy: 0.6067\n",
    "Epoch 8/10\n",
    "2482/2482 [==============================] - 54s 22ms/step - loss: 0.8627 - accuracy: 0.6230 - val_loss: 0.9170 - val_accuracy: 0.6066\n",
    "Epoch 9/10\n",
    "2482/2482 [==============================] - 54s 22ms/step - loss: 0.8527 - accuracy: 0.6287 - val_loss: 0.9211 - val_accuracy: 0.6039\n",
    "Epoch 10/10\n",
    "2482/2482 [==============================] - 55s 22ms/step - loss: 0.8437 - accuracy: 0.6312 - val_loss: 0.9213 - val_accuracy: 0.6039\n",
    "1241/1241 [==============================] - 8s 7ms/step - loss: 0.9257 - accuracy: 0.6052\n",
    "Loss:  0.9256511330604553\n",
    "Accuracy:  0.6052075028419495\n",
    "```"
   ]
  },
  {
   "cell_type": "code",
   "execution_count": 94,
   "metadata": {},
   "outputs": [],
   "source": [
    "import matplotlib.pyplot as plt\n",
    "\n",
    "\n",
    "acc = history.history['accuracy']\n",
    "val_acc = history.history['val_accuracy']\n",
    "loss = history.history['loss']\n",
    "val_loss = history.history['val_loss']\n",
    "\n",
    "epochs = range(1, len(acc) + 1)\n",
    "\n",
    "# y_pred[0]\n",
    "# y_test[0]"
   ]
  },
  {
   "cell_type": "code",
   "execution_count": 103,
   "metadata": {},
   "outputs": [
    {
     "data": {
      "image/png": "[encoded data removed]",
      "text/plain": [
       "<Figure size 432x288 with 1 Axes>"
      ]
     },
     "metadata": {
      "needs_background": "light"
     },
     "output_type": "display_data"
    }
   ],
   "source": [
    "# \n",
    "plt.plot(epochs, acc, 'r', label='Training acc')\n",
    "plt.plot(epochs, val_acc, 'b', label='Validation acc')\n",
    "plt.title('Training and validation Accuracy')\n",
    "plt.xlabel('Epochs')\n",
    "plt.ylabel('Accuracy')\n",
    "plt.legend()\n",
    "\n",
    "\n",
    "plt.savefig('LSTM:32_vocab_size:1000_Embeddind:Zerado_tknzr:WordPunctTokenizer_Accuracy.jpg')\n",
    "plt.show()"
   ]
  },
  {
   "cell_type": "code",
   "execution_count": 102,
   "metadata": {},
   "outputs": [
    {
     "data": {
      "image/png": "[encoded data removed]",
      "text/plain": [
       "<Figure size 432x288 with 1 Axes>"
      ]
     },
     "metadata": {
      "needs_background": "light"
     },
     "output_type": "display_data"
    }
   ],
   "source": [
    "plt.plot(epochs, loss, 'r', label='Training loss')\n",
    "plt.plot(epochs, val_loss, 'b', label='Validation loss')\n",
    "plt.title('Training and validation loss')\n",
    "plt.xlabel('Epochs')\n",
    "plt.ylabel('Loss')\n",
    "plt.legend()\n",
    "\n",
    "plt.savefig('LSTM:32_vocab_size:1000_Embeddind:Zerado_tknzr:WordPunctTokenizer_Loss.jpg')\n",
    "plt.show()"
   ]
  },
  {
   "cell_type": "code",
   "execution_count": null,
   "metadata": {},
   "outputs": [],
   "source": []
  }
 ],
 "metadata": {
  "kernelspec": {
   "display_name": "Python 3",
   "language": "python",
   "name": "python3"
  },
  "language_info": {
   "codemirror_mode": {
    "name": "ipython",
    "version": 3
   },
   "file_extension": ".py",
   "mimetype": "text/x-python",
   "name": "python",
   "nbconvert_exporter": "python",
   "pygments_lexer": "ipython3",
   "version": "3.8.5"
  }
 },
 "nbformat": 4,
 "nbformat_minor": 4
}
